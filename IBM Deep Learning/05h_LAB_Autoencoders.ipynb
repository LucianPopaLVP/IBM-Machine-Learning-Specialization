{
 "cells": [
  {
   "cell_type": "markdown",
   "metadata": {
    "run_control": {
     "marked": true
    }
   },
   "source": [
    "# Machine Learning Foundation\n",
    "\n",
    "## Course 5, Part h: Autoencoders LAB"
   ]
  },
  {
   "cell_type": "markdown",
   "metadata": {},
   "source": [
    "## Learning Objectives \n",
    "\n",
    "1. Implement the following dimensionality reduction techniques on the MNIST data:\n",
    "    * PCA\n",
    "    * Autoencoders\n",
    "    * Variational autoencoders\n",
    "2. Use appropriate scoring metrics to compare the performance of each."
   ]
  },
  {
   "cell_type": "markdown",
   "metadata": {},
   "source": [
    "## MNIST data"
   ]
  },
  {
   "cell_type": "markdown",
   "metadata": {},
   "source": [
    "Throughout this lesson, we'll be working with the famous [MNIST dataset](https://en.wikipedia.org/wiki/MNIST_database), which contains 70,000 handwritten black-and-white images, which are traditionally split into 60k training images and 10k validation images."
   ]
  },
  {
   "cell_type": "code",
   "execution_count": 1,
   "metadata": {},
   "outputs": [],
   "source": [
    "from keras.datasets import mnist\n",
    "import numpy as np\n",
    "np.set_printoptions(precision=2)\n",
    "\n",
    "import matplotlib.pyplot as plt\n",
    "\n",
    "(x_train, y_train), (x_test, y_test) = mnist.load_data();"
   ]
  },
  {
   "cell_type": "markdown",
   "metadata": {},
   "source": [
    "### Preprocess MNIST"
   ]
  },
  {
   "cell_type": "markdown",
   "metadata": {},
   "source": [
    "We'll preprocess by scaling images pixels to be between 0 and 1."
   ]
  },
  {
   "cell_type": "code",
   "execution_count": 2,
   "metadata": {},
   "outputs": [],
   "source": [
    "x_train = x_train.astype('float32') / 255.\n",
    "x_test = x_test.astype('float32') / 255."
   ]
  },
  {
   "cell_type": "markdown",
   "metadata": {},
   "source": [
    "### Part 1: PCA"
   ]
  },
  {
   "cell_type": "markdown",
   "metadata": {},
   "source": [
    "We'll use PCA as a baseline with which we can compare our deep learning models."
   ]
  },
  {
   "cell_type": "markdown",
   "metadata": {},
   "source": [
    "For PCA we'll treat each image like a \"row\" of data and flatten our data, so each observation is 784 columns:"
   ]
  },
  {
   "cell_type": "code",
   "execution_count": 3,
   "metadata": {},
   "outputs": [
    {
     "name": "stdout",
     "output_type": "stream",
     "text": [
      "(60000, 784)\n",
      "(10000, 784)\n"
     ]
    }
   ],
   "source": [
    "x_train_flat = x_train.reshape((len(x_train), np.prod(x_train.shape[1:])))\n",
    "x_test_flat = x_test.reshape((len(x_test), np.prod(x_test.shape[1:])))\n",
    "print(x_train_flat.shape)\n",
    "print(x_test_flat.shape)"
   ]
  },
  {
   "cell_type": "markdown",
   "metadata": {},
   "source": [
    "Recall that PCA will do a **matrix decomposition** of this data to find the **eigenvalues** - these **eigenvalues** will be the **principal components** of the data, or the \"latent features\" that describe a maximal amount of variance in the data."
   ]
  },
  {
   "cell_type": "markdown",
   "metadata": {},
   "source": [
    "PCA works better if our features are scaled, so let's do that. "
   ]
  },
  {
   "cell_type": "code",
   "execution_count": 4,
   "metadata": {},
   "outputs": [],
   "source": [
    "from sklearn.preprocessing import MinMaxScaler\n",
    "s = MinMaxScaler().fit(x_train_flat)\n",
    "x_train_scaled = s.transform(x_train_flat)"
   ]
  },
  {
   "cell_type": "code",
   "execution_count": 5,
   "metadata": {},
   "outputs": [],
   "source": [
    "from sklearn.decomposition import PCA\n",
    "\n",
    "def mnist_pca(x_data, n_components):\n",
    "    pca = PCA(n_components=n_components)\n",
    "\n",
    "    fit_pca = pca.fit(x_data)\n",
    "    \n",
    "    print(\"Variance explained with {0} components:\".format(n_components), \n",
    "          round(sum(fit_pca.explained_variance_ratio_), 2))\n",
    "\n",
    "    return fit_pca, fit_pca.transform(x_data)"
   ]
  },
  {
   "cell_type": "code",
   "execution_count": 6,
   "metadata": {},
   "outputs": [
    {
     "name": "stdout",
     "output_type": "stream",
     "text": [
      "Variance explained with 784 components: 1.0\n"
     ]
    }
   ],
   "source": [
    "pca_full, mnist_data_full = mnist_pca(x_train_scaled, 784)"
   ]
  },
  {
   "cell_type": "code",
   "execution_count": 7,
   "metadata": {},
   "outputs": [
    {
     "data": {
      "image/png": "[encoded data removed]",
      "text/plain": [
       "<Figure size 432x288 with 1 Axes>"
      ]
     },
     "metadata": {
      "needs_background": "light"
     },
     "output_type": "display_data"
    }
   ],
   "source": [
    "plt.plot(np.cumsum(pca_full.explained_variance_ratio_))\n",
    "plt.title(\"Proportion of PCA variance\\nexplained by number of components\")\n",
    "plt.xlabel(\"Number of components\")\n",
    "plt.ylabel(\"Proportion of variance explained\");"
   ]
  },
  {
   "cell_type": "markdown",
   "metadata": {},
   "source": [
    "We need about 250 components to explain 90% of the variance in the data!"
   ]
  },
  {
   "cell_type": "markdown",
   "metadata": {},
   "source": [
    "For visualization purposes, let's extract just two components and plot them:"
   ]
  },
  {
   "cell_type": "code",
   "execution_count": 8,
   "metadata": {},
   "outputs": [
    {
     "name": "stdout",
     "output_type": "stream",
     "text": [
      "Variance explained with 2 components: 0.17\n"
     ]
    }
   ],
   "source": [
    "pca_2, mnist_data_2 = mnist_pca(x_train_scaled, 2)"
   ]
  },
  {
   "cell_type": "code",
   "execution_count": null,
   "metadata": {},
   "outputs": [],
   "source": [
    "num_images_per_class = 250\n",
    "fig = plt.figure(figsize=(12,12))\n",
    "for number in list(range(10)):\n",
    "    mask = y_train == number\n",
    "    x_data = mnist_data_2[mask, 0][:num_images_per_class]\n",
    "    y_data = mnist_data_2[mask, 1][:num_images_per_class]\n",
    "    plt.scatter(x_data, y_data, label=number, alpha=1)\n",
    "plt.legend();"
   ]
  },
  {
   "cell_type": "markdown",
   "metadata": {},
   "source": [
    "We can already see that the latent features PCA is learning _somewhat_ disentangle the features here, and a neural network could certainly help with this."
   ]
  },
  {
   "cell_type": "markdown",
   "metadata": {},
   "source": [
    "### Scoring PCA"
   ]
  },
  {
   "cell_type": "markdown",
   "metadata": {},
   "source": [
    "What we really care about is: how good is PCA at creating a low dimensional representation of the MNIST data?\n",
    "\n",
    "As with all models, we should test performance on a different dataset than we trained on:"
   ]
  },
  {
   "cell_type": "code",
   "execution_count": null,
   "metadata": {},
   "outputs": [],
   "source": [
    "pca_64, mnist_data_64 = mnist_pca(x_train_scaled, 64)"
   ]
  },
  {
   "cell_type": "code",
   "execution_count": null,
   "metadata": {},
   "outputs": [],
   "source": [
    "s = MinMaxScaler().fit(x_test_flat)\n",
    "x_test_scaled = s.transform(x_test_flat)"
   ]
  },
  {
   "cell_type": "code",
   "execution_count": null,
   "metadata": {},
   "outputs": [],
   "source": [
    "x_test_flat_64 = pca_64.transform(x_test_scaled)\n",
    "x_test_reconstructed_64 = pca_64.inverse_transform(x_test_flat_64)"
   ]
  },
  {
   "cell_type": "code",
   "execution_count": null,
   "metadata": {},
   "outputs": [],
   "source": [
    "x_test_reconstructed_64.shape"
   ]
  },
  {
   "cell_type": "code",
   "execution_count": null,
   "metadata": {},
   "outputs": [],
   "source": [
    "true = x_test_scaled\n",
    "reconstructed = x_test_reconstructed_64"
   ]
  },
  {
   "cell_type": "code",
   "execution_count": null,
   "metadata": {},
   "outputs": [],
   "source": [
    "def mse_reconstruction(true, reconstructed):\n",
    "    return np.sum(np.power(true - reconstructed, 2) / true.shape[1])"
   ]
  },
  {
   "cell_type": "code",
   "execution_count": null,
   "metadata": {},
   "outputs": [],
   "source": [
    "mse_reconstruction(true, reconstructed)"
   ]
  },
  {
   "cell_type": "markdown",
   "metadata": {},
   "source": [
    "Average MSE of **90.6**, using 64 components, for PCA."
   ]
  },
  {
   "cell_type": "markdown",
   "metadata": {},
   "source": [
    "### Simple AE"
   ]
  },
  {
   "cell_type": "markdown",
   "metadata": {},
   "source": [
    "Now let's build an autoencoder! Fundamentally, an autoencoder is an neural network where the input is the same as the output. The hope for such networks is that one of the hidden layers will \"learn a compressed representation\" of the data, similar to the way PCA does."
   ]
  },
  {
   "cell_type": "code",
   "execution_count": null,
   "metadata": {},
   "outputs": [],
   "source": [
    "from keras.layers import Input, Dense\n",
    "from keras.models import Model"
   ]
  },
  {
   "cell_type": "markdown",
   "metadata": {},
   "source": [
    "In practice, when implementing autoencoders using `Keras`, we define _three_ models:\n",
    "\n",
    "* The \"full autoencoder\", here `full_model`, will take inputs and try to reconstruct them\n",
    "* The \"encoder\", here `encoder_model`, will take inputs and try to reconstruct them\n",
    "* The \"decoder\", here `decoder_model`, will take the latent space and try to reconstruct it"
   ]
  },
  {
   "cell_type": "code",
   "execution_count": null,
   "metadata": {},
   "outputs": [],
   "source": [
    "ENCODING_DIM = 64\n",
    "\n",
    "# Encoder model\n",
    "inputs = Input(shape=(784,)) \n",
    "encoded = Dense(ENCODING_DIM, activation=\"sigmoid\")(inputs)\n",
    "encoder_model = Model(inputs, encoded, name='encoder')\n",
    "\n",
    "# Decoder model\n",
    "encoded_inputs = Input(shape=(ENCODING_DIM,), name='encoding')\n",
    "reconstruction = Dense(784, activation=\"sigmoid\")(encoded_inputs)\n",
    "decoder_model = Model(encoded_inputs, reconstruction, name='decoder')\n",
    "\n",
    "# Defining the full model as the combination of the two\n",
    "outputs = decoder_model(encoder_model(inputs))\n",
    "full_model = Model(inputs, outputs, name='full_ae')"
   ]
  },
  {
   "cell_type": "code",
   "execution_count": null,
   "metadata": {},
   "outputs": [],
   "source": [
    "full_model = Model(inputs=inputs, \n",
    "                   outputs=outputs)\n",
    "\n",
    "full_model.compile(optimizer='rmsprop',\n",
    "                 loss='binary_crossentropy',\n",
    "                 metrics=['accuracy'])"
   ]
  },
  {
   "cell_type": "code",
   "execution_count": null,
   "metadata": {},
   "outputs": [],
   "source": [
    "history = full_model.fit(x_train_flat, x_train_flat, shuffle=True, epochs=1, batch_size=32)"
   ]
  },
  {
   "cell_type": "code",
   "execution_count": null,
   "metadata": {},
   "outputs": [],
   "source": [
    "full_model.summary()"
   ]
  },
  {
   "cell_type": "markdown",
   "metadata": {},
   "source": [
    "Feel free to do `.summary` and `visual` on this trained model now."
   ]
  },
  {
   "cell_type": "markdown",
   "metadata": {},
   "source": [
    "Recall that with Keras, training the model with layers 1-5 trains the smaller model simultaneously, as long as they are built off of the same underlying objects!"
   ]
  },
  {
   "cell_type": "code",
   "execution_count": null,
   "metadata": {},
   "outputs": [],
   "source": [
    "encoded_images = encoder_model.predict(x_test_flat)\n",
    "encoded_images.shape"
   ]
  },
  {
   "cell_type": "markdown",
   "metadata": {},
   "source": [
    "So, the \"encoder model\" has already been trained! For example, the encoding for the first image in the test dataset is:"
   ]
  },
  {
   "cell_type": "code",
   "execution_count": null,
   "metadata": {},
   "outputs": [],
   "source": [
    "encoded_images[0]"
   ]
  },
  {
   "cell_type": "markdown",
   "metadata": {},
   "source": [
    "As we can see, the `encoder_model` has been trained!"
   ]
  },
  {
   "cell_type": "markdown",
   "metadata": {},
   "source": [
    "### Exercise 1\n",
    "\n",
    "With PCA, we compared the pixel-wise difference between the reconstructed images and the original images to score how good the model was. \n",
    "\n",
    "Your task is now to do the same using the autoencoder. You'll have to think about what needs to get fed through the autoencoder to do this. Your steps are:\n",
    "\n",
    "1. Use the trained autoencoder to generate reconstructed images.\n",
    "2. Compute the pixel-wise distance between the reconstructed images and the original images. \n",
    "\n",
    "Is your result higher or lower than what you got with PCA?"
   ]
  },
  {
   "cell_type": "code",
   "execution_count": null,
   "metadata": {},
   "outputs": [],
   "source": [
    "### BEGIN SOLUTION\n",
    "# Generate reconstructed images\n",
    "decoded_images = full_model.predict(x_test_flat)\n",
    "mse_reconstruction(decoded_images, x_test_flat)\n",
    "### END SOLUTION"
   ]
  },
  {
   "cell_type": "markdown",
   "metadata": {},
   "source": [
    "Significantly worse!"
   ]
  },
  {
   "cell_type": "markdown",
   "metadata": {},
   "source": [
    "### Exercise 2:\n",
    "\n",
    "One of the reasons this model does worse than PCA is that is isn't a \"Deep Learning\" model. Go ahead and add an extra hidden Dense layer to both the `encoder_model` and the `decoder_model`."
   ]
  },
  {
   "cell_type": "code",
   "execution_count": null,
   "metadata": {},
   "outputs": [],
   "source": [
    "ENCODING_DIM = 64\n",
    "HIDDEN_DIM = 256\n",
    "### BEGIN SOLUTION\n",
    "# Encoder model\n",
    "inputs = Input(shape=(784,)) \n",
    "encoded = Dense(ENCODING_DIM, activation=\"relu\")(inputs)\n",
    "encoder_hidden = Dense(HIDDEN_DIM, activation=\"sigmoid\")(encoded)\n",
    "encoder_model = Model(inputs, encoded, name='encoder')\n",
    "\n",
    "# Decoder model\n",
    "encoded_inputs = Input(shape=(ENCODING_DIM,), name='encoding')\n",
    "decoder_hidden = Dense(HIDDEN_DIM, activation=\"relu\")(encoded_inputs)\n",
    "reconstruction = Dense(784, activation=\"sigmoid\")(decoder_hidden)\n",
    "decoder_model = Model(encoded_inputs, reconstruction, name='decoder')\n",
    "\n",
    "# Defining the full model as the combination of the two\n",
    "outputs = decoder_model(encoder_model(inputs))\n",
    "full_model = Model(inputs, outputs, name='full_ae')"
   ]
  },
  {
   "cell_type": "code",
   "execution_count": null,
   "metadata": {},
   "outputs": [],
   "source": [
    "full_model.summary()"
   ]
  },
  {
   "cell_type": "code",
   "execution_count": null,
   "metadata": {},
   "outputs": [],
   "source": [
    "full_model = Model(inputs=inputs, \n",
    "                   outputs=outputs)\n",
    "\n",
    "full_model.compile(optimizer='rmsprop',\n",
    "                 loss='binary_crossentropy',\n",
    "                 metrics=['accuracy'])"
   ]
  },
  {
   "cell_type": "code",
   "execution_count": null,
   "metadata": {
    "scrolled": true
   },
   "outputs": [],
   "source": [
    "history = full_model.fit(x_train_flat, x_train_flat, shuffle=True, epochs=2, batch_size=32)"
   ]
  },
  {
   "cell_type": "code",
   "execution_count": null,
   "metadata": {},
   "outputs": [],
   "source": [
    "# Generate reconstructed images\n",
    "decoded_images = full_model.predict(x_test_flat)\n",
    "mse_reconstruction(decoded_images, x_test_flat)\n",
    "### END SOLUTION"
   ]
  },
  {
   "cell_type": "markdown",
   "metadata": {},
   "source": [
    "Better than PCA!"
   ]
  },
  {
   "cell_type": "markdown",
   "metadata": {},
   "source": [
    "### Exercise 3:"
   ]
  },
  {
   "cell_type": "markdown",
   "metadata": {},
   "source": [
    "You've probably noticed we've only been training our model for one epoch. Let's test to see how our model's reconstruction loss decreases as we train it more. \n",
    "\n",
    "Write code that:\n",
    "\n",
    "1. Trains the autoencoder for 5 epochs\n",
    "2. Prints the reconstruction loss after each epoch\n",
    "\n",
    "Does the reconstruction loss decrease after each epoch?"
   ]
  },
  {
   "cell_type": "code",
   "execution_count": null,
   "metadata": {},
   "outputs": [],
   "source": [
    "def train_ae_epochs(num_epochs=1):\n",
    "### BEGIN SOLUTION\n",
    "    ENCODING_DIM = 64\n",
    "    HIDDEN_DIM = 256\n",
    "\n",
    "    # Encoder model\n",
    "    inputs = Input(shape=(784,)) \n",
    "    encoded = Dense(ENCODING_DIM, activation=\"relu\")(inputs)\n",
    "    encoder_hidden = Dense(HIDDEN_DIM, activation=\"sigmoid\")(encoded)\n",
    "    encoder_model = Model(inputs, encoded, name='encoder')\n",
    "\n",
    "    # Decoder model\n",
    "    encoded_inputs = Input(shape=(ENCODING_DIM,), name='encoding')\n",
    "    decoder_hidden = Dense(HIDDEN_DIM, activation=\"relu\")(encoded_inputs)\n",
    "    reconstruction = Dense(784, activation=\"sigmoid\")(decoder_hidden)\n",
    "    decoder_model = Model(encoded_inputs, reconstruction, name='decoder')\n",
    "\n",
    "    # Defining the full model as the combination of the two\n",
    "    outputs = decoder_model(encoder_model(inputs))\n",
    "    full_model = Model(inputs, outputs, name='full_ae')\n",
    "    \n",
    "    full_model = Model(inputs=inputs, \n",
    "                       outputs=outputs)\n",
    "\n",
    "    full_model.compile(optimizer='rmsprop',\n",
    "                     loss='binary_crossentropy',\n",
    "                     metrics=['accuracy'])\n",
    "    mse_res = []\n",
    "    for i in range(num_epochs):\n",
    "        history = full_model.fit(x_train_flat, x_train_flat, shuffle=True, epochs=1, batch_size=32)\n",
    "    \n",
    "        decoded_images = full_model.predict(x_test_flat)\n",
    "        reconstruction_loss = mse_reconstruction(decoded_images, x_test_flat)\n",
    "        mse_res.append(reconstruction_loss)\n",
    "        print(\"Reconstruction loss after epoch {0} is {1}\"\n",
    "              .format(i+1, reconstruction_loss))\n",
    "### END SOLUTION       \n",
    "    return mse_res\n"
   ]
  },
  {
   "cell_type": "code",
   "execution_count": null,
   "metadata": {},
   "outputs": [],
   "source": [
    "train_ae_epochs(5)"
   ]
  },
  {
   "cell_type": "markdown",
   "metadata": {},
   "source": [
    "This is promising: even though the loss and accuracy don't appear to be changing much, as we train our autoencoder for longer, it does appear to be getting better and better at reconstructing the (unseen) test images."
   ]
  },
  {
   "cell_type": "markdown",
   "metadata": {},
   "source": [
    "### Variational autoencoder"
   ]
  },
  {
   "cell_type": "markdown",
   "metadata": {},
   "source": [
    "VAEs are a way have neural networks learn representations of data, as with regular autoencoders. This time, however, the neural network will learn parameters of a normal distribution that will have observations drawn from it that will be transformed back into images. This results in two dimensional latent representation of the data once the variational autoencoder is trained, where one dimension represents the mean of the normal distribution and the other dimension represents the standard deviation."
   ]
  },
  {
   "cell_type": "markdown",
   "metadata": {},
   "source": [
    "At a high level, the actual steps of a VAE are:\n",
    "\n",
    "1. The first neural network, the \"encoder\", predicts two vectors for each image, which will then be interpreted as means and standard deviations and transformed into a normal distribution.\n",
    "3. The second neural network, the \"decoder\", takes the results of this operation and tries to reconstruct the original image.\n",
    "4. The entire system is trained with backpropagation. At each iteration, _two_ losses are computed:\n",
    "    * One loss simply penalizes the system for producing images that don't match the original images.\n",
    "    * The other loss penalizes the encoder model for not correctly producing statistics from the image that match a standard normal distribution. \n",
    "   \n",
    "The details are contained in the presentation. "
   ]
  },
  {
   "cell_type": "code",
   "execution_count": null,
   "metadata": {},
   "outputs": [],
   "source": [
    "from keras.layers import Lambda, Input, Dense\n",
    "from keras.models import Model\n",
    "from keras.datasets import mnist\n",
    "from keras.losses import mse, binary_crossentropy\n",
    "from keras.utils import plot_model\n",
    "from keras import backend as K\n",
    "\n",
    "import numpy as np\n",
    "import matplotlib.pyplot as plt\n",
    "import os\n",
    "import tensorflow as tf"
   ]
  },
  {
   "cell_type": "markdown",
   "metadata": {},
   "source": [
    "The function below involves transforming the VAE encoder outputs into a normally distributed output. \n",
    "\n",
    "Recall that the VAE encoder generates vectors representing $\\mu$ and $log(\\sigma)$. These are then transformed into the generator input via \n",
    "\n",
    "$$ G_{in} = \\mu + \\sigma * \\epsilon $$\n",
    "\n",
    "where $ \\epsilon $ ~ $ N(0, 1) $."
   ]
  },
  {
   "cell_type": "code",
   "execution_count": null,
   "metadata": {},
   "outputs": [],
   "source": [
    "def sampling(args):\n",
    "    \"\"\"\n",
    "    Transforms parameters defining the latent space into a normal distribution.\n",
    "    \"\"\"\n",
    "    # Need to unpack arguments like this because of the way the Keras \"Lambda\" function works.\n",
    "    mu, log_sigma = args\n",
    "    # by default, random_normal has mean=0 and std=1.0\n",
    "    epsilon = K.random_normal(shape=tf.shape(mu))\n",
    "    sigma = K.exp(log_sigma)\n",
    "    return mu + K.exp(0.5 * sigma) * epsilon"
   ]
  },
  {
   "cell_type": "code",
   "execution_count": null,
   "metadata": {},
   "outputs": [],
   "source": [
    "hidden_dim = 256\n",
    "batch_size = 128\n",
    "latent_dim = 2 \n",
    "# this is the dimension of each of the vectors representing the two parameters\n",
    "# that will get transformed into a normal distribution\n",
    "epochs = 1\n",
    "\n",
    "\n",
    "# VAE model = encoder + decoder\n",
    "# build encoder model\n",
    "inputs = Input(shape=(784, ), name='encoder_input')\n",
    "x = Dense(hidden_dim, activation='relu')(inputs)\n",
    "\n",
    "\n",
    "z_mean = Dense(latent_dim, name='z_mean')(x)\n",
    "z_log_var = Dense(latent_dim, name='z_log_var')(x)\n",
    "# NOTE: output of encoder model is *2* n-dimensional vectors:\n",
    "\n",
    "z = Lambda(sampling, name='z')([z_mean, z_log_var])\n",
    "# z is now one n dimensional vector representing the inputs \n",
    "encoder_model = Model(inputs, [z_mean, z_log_var, z], name='encoder')"
   ]
  },
  {
   "cell_type": "markdown",
   "metadata": {},
   "source": [
    "We'll have the `encoder_model` output `z_mean`, `z_log_var`, and `z` so we can plot the images as a function of these later."
   ]
  },
  {
   "cell_type": "code",
   "execution_count": null,
   "metadata": {},
   "outputs": [],
   "source": [
    "# build decoder model\n",
    "latent_inputs = Input(shape=(latent_dim,),)\n",
    "x = Dense(hidden_dim, activation='relu')(latent_inputs)\n",
    "outputs = Dense(784, activation='sigmoid')(x)\n",
    "decoder_model = Model(latent_inputs, outputs, name='decoder')\n",
    "\n",
    "\n",
    "# instantiate VAE model\n",
    "outputs = decoder_model(encoder_model(inputs)[2])\n",
    "vae_model = Model(inputs, outputs, name='vae_mlp')"
   ]
  },
  {
   "cell_type": "markdown",
   "metadata": {},
   "source": [
    "#### Examine each layer"
   ]
  },
  {
   "cell_type": "code",
   "execution_count": null,
   "metadata": {
    "scrolled": false
   },
   "outputs": [],
   "source": [
    "for i, layer in enumerate(vae_model.layers):\n",
    "    print(\"Layer\", i+1)\n",
    "    print(\"Name\", layer.name)\n",
    "    print(\"Input shape\", layer.input_shape)\n",
    "    print(\"Output shape\", layer.output_shape)\n",
    "    if not layer.weights:\n",
    "        print(\"No weights for this layer\")\n",
    "        continue\n",
    "    for i, weight in enumerate(layer.weights):\n",
    "        print(\"Weights\", i+1)\n",
    "        print(\"Name\", weight.name)\n",
    "        print(\"Weights shape:\", weight.shape.as_list())"
   ]
  },
  {
   "cell_type": "markdown",
   "metadata": {},
   "source": [
    "### Review of variational autoencoder loss:\n",
    "\n",
    "**Part 1:**\n",
    "\n",
    "We know Variational Autoencoders use the first part of their architecture - the encoder - to output zeros for the mean and zeros for the log variance (equal to a \"real\" variance of 1). \n",
    "\n",
    "We also know that the penalty for a given prediction of $\\mu_{pred}$ and $log(\\sigma)_{pred}$ is:\n",
    "\n",
    "$$\n",
    "\\frac{1}{2} * (e^{log(\\sigma)_{pred}} - (1 + log(\\sigma)_{pred}) + (\\mu_{pred})^2 )\n",
    "$$\n",
    "\n",
    "* **Note 1**: we predict $\\log(\\sigma)$ because predicting $\\sigma$ directly could result in a negative value, and having a negative value for the variance of a distribution makes no sense.\n",
    "* **Note 2**: the cost function has two components, both of which penalize us for having results that deviate from a standard normal distribution.\n",
    "    * The first part penalizes the $log(\\sigma)_{pred}$ from being away from 0, using the fact that $e^x - (x+1)$ is minimized at $x=0$.\n",
    "    * The second part simply penalizes $\\mu_{pred}$ from being away from 0.\n",
    "\n",
    "This loss, representing a measure of the difference between these two distributions, is called the **KL Loss**.\n",
    "\n",
    "**Part 2:**\n",
    "\n",
    "The other part of the loss is simply the difference between the outputted image and the image fed in. The standard way of penalizing a difference between these two quantities is to use a `binary_crossentropy` function.\n",
    "\n",
    "### Exercise 4:\n",
    "\n",
    "Compute the loss for variational autoencoders. It should have two components:\n",
    "\n",
    "1. The reconstruction loss. Use the `binary_crossentropy` Keras function to compute the loss. \n",
    "    \n",
    "    **Note**: The `binary_crossentropy` function returns an average by default, so we  multiply this component of the loss by the number of pixels in the image (784) to get the total loss.\n",
    "    \n",
    "2. The KL loss. Use the formula above, and the `z_mean` and `z_log_var` functions to fill in the missing piece below.\n",
    "    \n",
    "    **Note**: We sum across the latent dimension to get a total loss for each input image.\n",
    "    \n",
    "Fill in the missing pieces:"
   ]
  },
  {
   "cell_type": "code",
   "execution_count": null,
   "metadata": {},
   "outputs": [],
   "source": [
    "#reconstruction_loss = # YOUR CODE HERE\n",
    "#reconstruction_loss *= 784"
   ]
  },
  {
   "cell_type": "code",
   "execution_count": null,
   "metadata": {},
   "outputs": [],
   "source": [
    "#kl_loss = # YOUR CODE HERE\n",
    "#kl_loss = K.sum(kl_loss, axis=-1)\n",
    "#total_vae_loss = K.mean(reconstruction_loss + kl_loss)"
   ]
  },
  {
   "cell_type": "code",
   "execution_count": null,
   "metadata": {},
   "outputs": [],
   "source": [
    "### BEGIN SOLUTION\n",
    "reconstruction_loss = binary_crossentropy(inputs, outputs)\n",
    "reconstruction_loss *= 784"
   ]
  },
  {
   "cell_type": "code",
   "execution_count": null,
   "metadata": {},
   "outputs": [],
   "source": [
    "kl_loss = 0.5 * (K.exp(z_log_var) - (1 + z_log_var) + K.square(z_mean))\n",
    "kl_loss = K.sum(kl_loss, axis=-1)\n",
    "total_vae_loss = K.mean(reconstruction_loss + kl_loss)\n",
    "### END SOLUTION"
   ]
  },
  {
   "cell_type": "markdown",
   "metadata": {},
   "source": [
    "### Compiling and fitting the model"
   ]
  },
  {
   "cell_type": "code",
   "execution_count": null,
   "metadata": {
    "scrolled": false
   },
   "outputs": [],
   "source": [
    "vae_model.add_loss(total_vae_loss)\n",
    "\n",
    "vae_model.compile(optimizer='rmsprop',\n",
    "                  metrics=['accuracy'])\n",
    "    \n",
    "vae_model.summary()"
   ]
  },
  {
   "cell_type": "code",
   "execution_count": null,
   "metadata": {
    "scrolled": true
   },
   "outputs": [],
   "source": [
    "vae_model.fit(x_train_flat,\n",
    "        epochs=epochs,\n",
    "        batch_size=batch_size)"
   ]
  },
  {
   "cell_type": "markdown",
   "metadata": {},
   "source": [
    "### Exercise 5:\n",
    "\n",
    "Compute the reconstruction error for the variational autoencoder. Is it higher or lower than for the autoencoder was after one epoch? Why do you think that is?"
   ]
  },
  {
   "cell_type": "code",
   "execution_count": null,
   "metadata": {},
   "outputs": [],
   "source": [
    "### BEGIN SOLUTION\n",
    "# Generate reconstructed images\n",
    "decoded_images = vae_model.predict(x_test_flat)\n",
    "mse_reconstruction(decoded_images, x_test_flat)\n",
    "### END SOLUTION"
   ]
  },
  {
   "cell_type": "markdown",
   "metadata": {},
   "source": [
    "Much higher (\"worse\")! This is because a variational auto encoder is designed to maximize the interpretability of the latent space, _not_ to minimize reconstruction error. \n",
    "\n",
    "Below, we'll show how you can visualize the latent space that this variational autoencoder has learned:"
   ]
  },
  {
   "cell_type": "markdown",
   "metadata": {},
   "source": [
    "#### Plotting the latent space:"
   ]
  },
  {
   "cell_type": "code",
   "execution_count": null,
   "metadata": {},
   "outputs": [],
   "source": [
    "models = encoder_model, decoder_model \n",
    "data = x_test_flat, y_test"
   ]
  },
  {
   "cell_type": "code",
   "execution_count": null,
   "metadata": {},
   "outputs": [],
   "source": [
    "def plot_results_var(models,\n",
    "                 data,\n",
    "                 batch_size=128,\n",
    "                 model_name=\"vae_mnist\",\n",
    "                    lim=4):\n",
    "    \"\"\"Plots labels and MNIST digits as function of 2-dim latent vector\n",
    "    # Arguments:\n",
    "        models (tuple): encoder and decoder models\n",
    "        data (tuple): test data and label\n",
    "        batch_size (int): prediction batch size\n",
    "        model_name (string): which model is using this function\n",
    "    \"\"\"\n",
    "\n",
    "    encoder, decoder = models\n",
    "    x_test, y_test = data\n",
    "    os.makedirs(model_name, exist_ok=True)\n",
    "\n",
    "    filename = os.path.join(model_name, \"vae_mean.png\")\n",
    "    \n",
    "    # display a 2D plot of the digit classes in the latent space\n",
    "    _, z_log_var, _ = encoder.predict(x_test,\n",
    "                                   batch_size=batch_size)\n",
    "    print(z_log_var)\n",
    "    plt.figure(figsize=(12, 10))\n",
    "    plt.scatter(z_log_var[:, 0], z_log_var[:, 1], c=y_test)\n",
    "    plt.colorbar()\n",
    "    plt.xlabel(\"z[0]\")\n",
    "    plt.ylabel(\"z[1]\")\n",
    "    plt.savefig(filename)\n",
    "    plt.show()\n",
    "\n",
    "    filename = os.path.join(model_name, \"digits_over_latent.png\")\n",
    "    # display a 30x30 2D manifold of digits\n",
    "    n = 30\n",
    "    digit_size = 28\n",
    "    figure = np.zeros((digit_size * n, digit_size * n))\n",
    "    # linearly spaced coordinates corresponding to the 2D plot\n",
    "    # of digit classes in the latent space\n",
    "    grid_x = np.linspace(-1.0 * lim, lim, n)\n",
    "    grid_y = np.linspace(-1.0 * lim, lim, n)[::-1]\n",
    "\n",
    "    for i, yi in enumerate(grid_y):\n",
    "        for j, xi in enumerate(grid_x):\n",
    "            z_sample = np.array([[xi, yi]])\n",
    "            x_decoded = decoder.predict(z_sample)\n",
    "            digit = x_decoded[0].reshape(digit_size, digit_size)\n",
    "            figure[i * digit_size: (i + 1) * digit_size,\n",
    "                   j * digit_size: (j + 1) * digit_size] = digit\n",
    "\n",
    "    plt.figure(figsize=(10, 10))\n",
    "    start_range = digit_size // 2\n",
    "    end_range = n * digit_size + start_range + 1\n",
    "    pixel_range = np.arange(start_range, end_range, digit_size)\n",
    "    sample_range_x = np.round(grid_x, 1)\n",
    "    sample_range_y = np.round(grid_y, 1)\n",
    "    plt.xticks(pixel_range, sample_range_x)\n",
    "    plt.yticks(pixel_range, sample_range_y)\n",
    "    plt.xlabel(\"z[0]\")\n",
    "    plt.ylabel(\"z[1]\")\n",
    "    plt.imshow(figure, cmap='Greys_r')\n",
    "    plt.savefig(filename)\n",
    "    plt.show()"
   ]
  },
  {
   "cell_type": "code",
   "execution_count": null,
   "metadata": {},
   "outputs": [],
   "source": [
    "plot_results_var(models,\n",
    "             data,\n",
    "             batch_size=batch_size,\n",
    "             model_name=\"vae_mlp\", \n",
    "             lim=5)"
   ]
  },
  {
   "cell_type": "markdown",
   "metadata": {},
   "source": [
    "Interesting results for just one epoch! As with the autoencoder above, you can modify the architecture of the VAE to try and produce better results, even adding convolutions."
   ]
  },
  {
   "cell_type": "markdown",
   "metadata": {},
   "source": [
    "### Exercise 6\n",
    "\n",
    "Train VAE and AE for 10 epochs each, and plot the reconstruction MSE as a function of the number of epochs for each. Which one seems to have more potential to continuously learn as it is given more compute time? Is this surprising to you?"
   ]
  },
  {
   "cell_type": "code",
   "execution_count": null,
   "metadata": {},
   "outputs": [],
   "source": [
    "### BEGIN SOLUTION \n",
    "# Gather AE loss \n",
    "loss_ae = train_ae_epochs(10)"
   ]
  },
  {
   "cell_type": "code",
   "execution_count": null,
   "metadata": {},
   "outputs": [],
   "source": [
    "# VAE model loss"
   ]
  },
  {
   "cell_type": "code",
   "execution_count": null,
   "metadata": {},
   "outputs": [],
   "source": [
    "vae_mse = []\n",
    "for i in range(10):\n",
    "    vae_model.fit(x_train_flat,\n",
    "            epochs=1,\n",
    "            batch_size=batch_size)\n",
    "    decoded_images = vae_model.predict(x_test_flat)\n",
    "    vae_mse.append(mse_reconstruction(decoded_images, x_test_flat))"
   ]
  },
  {
   "cell_type": "code",
   "execution_count": null,
   "metadata": {},
   "outputs": [],
   "source": [
    "# Plot scaled losses\n",
    "plt.plot(range(10), loss_ae/(.01*loss_ae[0]), label='AE')\n",
    "plt.plot(range(10), vae_mse/(.01*vae_mse[0]), label='VAE')\n",
    "plt.xlabel('Epochs')\n",
    "plt.ylabel('MSE Recon. Loss (% of Epoch 1 loss)')\n",
    "plt.legend()\n",
    "### END SOLUTION "
   ]
  },
  {
   "cell_type": "markdown",
   "metadata": {},
   "source": [
    "---\n",
    "### Machine Learning Foundation (C) 2020 IBM Corporation"
   ]
  }
 ],
 "metadata": {
  "kernelspec": {
   "display_name": "Python 3 (ipykernel)",
   "language": "python",
   "name": "python3"
  },
  "language_info": {
   "codemirror_mode": {
    "name": "ipython",
    "version": 3
   },
   "file_extension": ".py",
   "mimetype": "text/x-python",
   "name": "python",
   "nbconvert_exporter": "python",
   "pygments_lexer": "ipython3",
   "version": "3.8.12"
  }
 },
 "nbformat": 4,
 "nbformat_minor": 4
}
