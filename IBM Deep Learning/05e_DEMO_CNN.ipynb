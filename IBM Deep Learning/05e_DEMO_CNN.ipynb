{
 "cells": [
  {
   "cell_type": "markdown",
   "metadata": {
    "run_control": {
     "marked": true
    }
   },
   "source": [
    "# Machine Learning Foundation\n",
    "\n",
    "## Course 5, Part e: CNN DEMO"
   ]
  },
  {
   "cell_type": "markdown",
   "metadata": {},
   "source": [
    "## Building a CNN to classify images in the CIFAR-10 Dataset\n",
    "\n",
    "We will work with the CIFAR-10 Dataset.  This is a well-known dataset for image classification, which consists of 60000 32x32 color images in 10 classes, with 6000 images per class. There are 50000 training images and 10000 test images.\n",
    "\n",
    "The 10 classes are:\n",
    "\n",
    "<ol start=\"0\">\n",
    "<li> airplane\n",
    "<li>  automobile\n",
    "<li> bird\n",
    "<li>  cat\n",
    "<li> deer\n",
    "<li> dog\n",
    "<li>  frog\n",
    "<li>  horse\n",
    "<li>  ship\n",
    "<li>  truck\n",
    "</ol>\n",
    "\n",
    "For details about CIFAR-10 see:\n",
    "https://www.cs.toronto.edu/~kriz/cifar.html\n",
    "\n",
    "For a compilation of published performance results on CIFAR 10, see:\n",
    "http://rodrigob.github.io/are_we_there_yet/build/classification_datasets_results.html\n",
    "\n",
    "---\n",
    "\n",
    "### Building Convolutional Neural Nets\n",
    "\n",
    "#In this exercise we will build and train our first convolutional neural networks.  In the first part, we walk through the different layers and how they are configured.  In the second part, you will build your own model, train it, and compare the performance."
   ]
  },
  {
   "cell_type": "code",
   "execution_count": 1,
   "metadata": {},
   "outputs": [],
   "source": [
    "import keras\n",
    "from tensorflow.keras.datasets import cifar10\n",
    "from tensorflow.keras.preprocessing.image import ImageDataGenerator\n",
    "from tensorflow.keras.models import Sequential\n",
    "# Dropout -- regularization\n",
    "# Flatten layer -- when moving from convolutional layers to dense layers \n",
    "from tensorflow.keras.layers import Dense, Dropout, Activation, Flatten\n",
    "# Conv -- defines how to move around tensor\n",
    "# Pooling -- max/mean - reduces shape of tensor\n",
    "from tensorflow.keras.layers import Conv2D, MaxPooling2D\n",
    "# from keras.datasets import cifar10\n",
    "# from keras.preprocessing.image import ImageDataGenerator\n",
    "# from keras.models import Sequential\n",
    "# from keras.layers import Dense, Dropout, Activation, Flatten\n",
    "# from keras.layers import Conv2D, MaxPooling2D\n",
    "import matplotlib.pyplot as plt"
   ]
  },
  {
   "cell_type": "code",
   "execution_count": 2,
   "metadata": {},
   "outputs": [],
   "source": [
    "from tensorflow.python.keras.applications.efficientnet import *"
   ]
  },
  {
   "cell_type": "code",
   "execution_count": 3,
   "metadata": {},
   "outputs": [
    {
     "name": "stdout",
     "output_type": "stream",
     "text": [
      "x_train shape: (50000, 32, 32, 3)\n",
      "50000 train samples\n",
      "10000 test samples\n"
     ]
    }
   ],
   "source": [
    "# The data, shuffled and split between train and test sets:\n",
    "(x_train, y_train), (x_test, y_test) = cifar10.load_data()\n",
    "print('x_train shape:', x_train.shape)\n",
    "print(x_train.shape[0], 'train samples')\n",
    "print(x_test.shape[0], 'test samples')"
   ]
  },
  {
   "cell_type": "code",
   "execution_count": 4,
   "metadata": {},
   "outputs": [
    {
     "data": {
      "text/plain": [
       "(32, 32, 3)"
      ]
     },
     "execution_count": 4,
     "metadata": {},
     "output_type": "execute_result"
    }
   ],
   "source": [
    "## Each image is a 32 x 32 x 3 numpy array\n",
    "x_train[444].shape"
   ]
  },
  {
   "cell_type": "code",
   "execution_count": 5,
   "metadata": {},
   "outputs": [
    {
     "name": "stdout",
     "output_type": "stream",
     "text": [
      "[9]\n"
     ]
    },
    {
     "data": {
      "image/png": "[encoded data removed]",
      "text/plain": [
       "<Figure size 432x288 with 1 Axes>"
      ]
     },
     "metadata": {
      "needs_background": "light"
     },
     "output_type": "display_data"
    }
   ],
   "source": [
    "## Let's look at one of the images\n",
    "\n",
    "print(y_train[444])\n",
    "plt.imshow(x_train[444]);"
   ]
  },
  {
   "cell_type": "code",
   "execution_count": 6,
   "metadata": {},
   "outputs": [],
   "source": [
    "num_classes = 10\n",
    "\n",
    "y_train = keras.utils.to_categorical(y_train, num_classes)\n",
    "y_test = keras.utils.to_categorical(y_test, num_classes)"
   ]
  },
  {
   "cell_type": "code",
   "execution_count": 7,
   "metadata": {},
   "outputs": [
    {
     "data": {
      "text/plain": [
       "array([0., 0., 0., 0., 0., 0., 0., 0., 0., 1.], dtype=float32)"
      ]
     },
     "execution_count": 7,
     "metadata": {},
     "output_type": "execute_result"
    }
   ],
   "source": [
    "# now instead of classes described by an integer between 0-9 we have a vector with a 1 in the (Pythonic) 9th position\n",
    "y_train[444]"
   ]
  },
  {
   "cell_type": "code",
   "execution_count": 8,
   "metadata": {},
   "outputs": [],
   "source": [
    "# As before, let's make everything float and scale\n",
    "x_train = x_train.astype('float32')\n",
    "x_test = x_test.astype('float32')\n",
    "x_train /= 255\n",
    "x_test /= 255"
   ]
  },
  {
   "cell_type": "markdown",
   "metadata": {},
   "source": [
    "## Keras Layers for CNNs\n",
    "- Previously we built Neural Networks using primarily the Dense, Activation and Dropout Layers.\n",
    "\n",
    "- Here we will describe how to use some of the CNN-specific layers provided by Keras\n",
    "\n",
    "### Conv2D\n",
    "\n",
    "```python\n",
    "keras.layers.convolutional.Conv2D(filters, kernel_size, strides=(1, 1), padding='valid', data_format=None, dilation_rate=(1, 1), activation=None, use_bias=True, kernel_initializer='glorot_uniform', bias_initializer='zeros', kernel_regularizer=None, bias_regularizer=None, activity_regularizer=None, kernel_constraint=None, bias_constraint=None, **kwargs)\n",
    "```\n",
    "\n",
    "A few parameters explained:\n",
    "- `filters`: the number of filter used per location.  In other words, the depth of the output.\n",
    "- `kernel_size`: an (x,y) tuple giving the height and width of the kernel to be used\n",
    "- `strides`: and (x,y) tuple giving the stride in each dimension.  Default is `(1,1)`\n",
    "- `input_shape`: required only for the first layer\n",
    "\n",
    "Note, the size of the output will be determined by the kernel_size, strides\n",
    "\n",
    "### MaxPooling2D\n",
    "`keras.layers.pooling.MaxPooling2D(pool_size=(2, 2), strides=None, padding='valid', data_format=None)`\n",
    "\n",
    "- `pool_size`: the (x,y) size of the grid to be pooled.\n",
    "- `strides`: Assumed to be the `pool_size` unless otherwise specified\n",
    "\n",
    "### Flatten\n",
    "Turns its input into a one-dimensional vector (per instance).  Usually used when transitioning between convolutional layers and fully connected layers.\n",
    "\n",
    "---\n",
    "\n",
    "## First CNN\n",
    "Below we will build our first CNN.  For demonstration purposes (so that it will train quickly) it is not very deep and has relatively few parameters.  We use strides of 2 in the first two convolutional layers which quickly reduces the dimensions of the output.  After a MaxPooling layer, we flatten, and then have a single fully connected layer before our final classification layer."
   ]
  },
  {
   "cell_type": "code",
   "execution_count": 9,
   "metadata": {},
   "outputs": [
    {
     "name": "stdout",
     "output_type": "stream",
     "text": [
      "Model: \"sequential\"\n",
      "_________________________________________________________________\n",
      "Layer (type)                 Output Shape              Param #   \n",
      "=================================================================\n",
      "conv2d (Conv2D)              (None, 16, 16, 32)        2432      \n",
      "_________________________________________________________________\n",
      "activation (Activation)      (None, 16, 16, 32)        0         \n",
      "_________________________________________________________________\n",
      "conv2d_1 (Conv2D)            (None, 6, 6, 32)          25632     \n",
      "_________________________________________________________________\n",
      "activation_1 (Activation)    (None, 6, 6, 32)          0         \n",
      "_________________________________________________________________\n",
      "max_pooling2d (MaxPooling2D) (None, 3, 3, 32)          0         \n",
      "_________________________________________________________________\n",
      "dropout (Dropout)            (None, 3, 3, 32)          0         \n",
      "_________________________________________________________________\n",
      "flatten (Flatten)            (None, 288)               0         \n",
      "_________________________________________________________________\n",
      "dense (Dense)                (None, 512)               147968    \n",
      "_________________________________________________________________\n",
      "activation_2 (Activation)    (None, 512)               0         \n",
      "_________________________________________________________________\n",
      "dropout_1 (Dropout)          (None, 512)               0         \n",
      "_________________________________________________________________\n",
      "dense_1 (Dense)              (None, 10)                5130      \n",
      "_________________________________________________________________\n",
      "activation_3 (Activation)    (None, 10)                0         \n",
      "=================================================================\n",
      "Total params: 181,162\n",
      "Trainable params: 181,162\n",
      "Non-trainable params: 0\n",
      "_________________________________________________________________\n"
     ]
    }
   ],
   "source": [
    "# Let's build a CNN using Keras' Sequential capabilities\n",
    "\n",
    "model_1 = Sequential()\n",
    "\n",
    "\n",
    "## 5x5 convolution with 2x2 stride and 32 filters\n",
    "model_1.add(Conv2D(32, (5, 5), strides = (2,2), padding='same',\n",
    "                 input_shape=x_train.shape[1:]))\n",
    "model_1.add(Activation('relu'))\n",
    "\n",
    "## Another 5x5 convolution with 2x2 stride and 32 filters\n",
    "model_1.add(Conv2D(32, (5, 5), strides = (2,2)))\n",
    "model_1.add(Activation('relu'))\n",
    "\n",
    "## 2x2 max pooling reduces to 3 x 3 x 32\n",
    "model_1.add(MaxPooling2D(pool_size=(2, 2)))\n",
    "model_1.add(Dropout(0.25))\n",
    "\n",
    "## Flatten turns 3x3x32 into 288x1\n",
    "model_1.add(Flatten())\n",
    "model_1.add(Dense(512))\n",
    "model_1.add(Activation('relu'))\n",
    "model_1.add(Dropout(0.5))\n",
    "model_1.add(Dense(num_classes))\n",
    "model_1.add(Activation('softmax'))\n",
    "\n",
    "model_1.summary()"
   ]
  },
  {
   "cell_type": "markdown",
   "metadata": {},
   "source": [
    "We still have 181K parameters, even though this is a \"small\" model.\n"
   ]
  },
  {
   "cell_type": "code",
   "execution_count": 10,
   "metadata": {},
   "outputs": [
    {
     "name": "stdout",
     "output_type": "stream",
     "text": [
      "Epoch 1/30\n",
      "1563/1563 [==============================] - 15s 9ms/step - loss: 1.9123 - accuracy: 0.2929 - val_loss: 1.4595 - val_accuracy: 0.4645\n",
      "Epoch 2/30\n",
      "1563/1563 [==============================] - 14s 9ms/step - loss: 1.4906 - accuracy: 0.4611 - val_loss: 1.3357 - val_accuracy: 0.5175\n",
      "Epoch 3/30\n",
      "1563/1563 [==============================] - 14s 9ms/step - loss: 1.3744 - accuracy: 0.5062 - val_loss: 1.2164 - val_accuracy: 0.5677\n",
      "Epoch 4/30\n",
      "1563/1563 [==============================] - 14s 9ms/step - loss: 1.3025 - accuracy: 0.5387 - val_loss: 1.2070 - val_accuracy: 0.5769\n",
      "Epoch 5/30\n",
      "1563/1563 [==============================] - 14s 9ms/step - loss: 1.2507 - accuracy: 0.5575 - val_loss: 1.1727 - val_accuracy: 0.5875\n",
      "Epoch 6/30\n",
      "1563/1563 [==============================] - 14s 9ms/step - loss: 1.2068 - accuracy: 0.5762 - val_loss: 1.1176 - val_accuracy: 0.6092\n",
      "Epoch 7/30\n",
      "1563/1563 [==============================] - 14s 9ms/step - loss: 1.1843 - accuracy: 0.5847 - val_loss: 1.1313 - val_accuracy: 0.5982\n",
      "Epoch 8/30\n",
      "1563/1563 [==============================] - 13s 9ms/step - loss: 1.1561 - accuracy: 0.5933 - val_loss: 1.0836 - val_accuracy: 0.6244\n",
      "Epoch 9/30\n",
      "1563/1563 [==============================] - 13s 9ms/step - loss: 1.1416 - accuracy: 0.6004 - val_loss: 1.0652 - val_accuracy: 0.6308\n",
      "Epoch 10/30\n",
      "1563/1563 [==============================] - 13s 9ms/step - loss: 1.1278 - accuracy: 0.6046 - val_loss: 1.1129 - val_accuracy: 0.6068\n",
      "Epoch 11/30\n",
      "1563/1563 [==============================] - 14s 9ms/step - loss: 1.0915 - accuracy: 0.6189 - val_loss: 1.0733 - val_accuracy: 0.6302\n",
      "Epoch 12/30\n",
      "1563/1563 [==============================] - 14s 9ms/step - loss: 1.1026 - accuracy: 0.6201 - val_loss: 1.0689 - val_accuracy: 0.6341\n",
      "Epoch 13/30\n",
      "1563/1563 [==============================] - 14s 9ms/step - loss: 1.0977 - accuracy: 0.6172 - val_loss: 1.1484 - val_accuracy: 0.6134\n",
      "Epoch 14/30\n",
      "1563/1563 [==============================] - 14s 9ms/step - loss: 1.0765 - accuracy: 0.6296 - val_loss: 1.0815 - val_accuracy: 0.6313\n",
      "Epoch 15/30\n",
      "1563/1563 [==============================] - 14s 9ms/step - loss: 1.0815 - accuracy: 0.6248 - val_loss: 1.0513 - val_accuracy: 0.6443\n",
      "Epoch 16/30\n",
      "1563/1563 [==============================] - 14s 9ms/step - loss: 1.0822 - accuracy: 0.6281 - val_loss: 1.1853 - val_accuracy: 0.6153\n",
      "Epoch 17/30\n",
      "1563/1563 [==============================] - 14s 9ms/step - loss: 1.0698 - accuracy: 0.6294 - val_loss: 1.1286 - val_accuracy: 0.6270\n",
      "Epoch 18/30\n",
      "1563/1563 [==============================] - 13s 9ms/step - loss: 1.0788 - accuracy: 0.6346 - val_loss: 1.1524 - val_accuracy: 0.6176\n",
      "Epoch 19/30\n",
      "1563/1563 [==============================] - 13s 8ms/step - loss: 1.0756 - accuracy: 0.6310 - val_loss: 1.1036 - val_accuracy: 0.6300\n",
      "Epoch 20/30\n",
      "1563/1563 [==============================] - 13s 8ms/step - loss: 1.0888 - accuracy: 0.6307 - val_loss: 1.0734 - val_accuracy: 0.6422\n",
      "Epoch 21/30\n",
      "1563/1563 [==============================] - 13s 8ms/step - loss: 1.0795 - accuracy: 0.6312 - val_loss: 1.1044 - val_accuracy: 0.6237\n",
      "Epoch 22/30\n",
      "1563/1563 [==============================] - 13s 8ms/step - loss: 1.0960 - accuracy: 0.6286 - val_loss: 1.0789 - val_accuracy: 0.6454\n",
      "Epoch 23/30\n",
      "1563/1563 [==============================] - 13s 8ms/step - loss: 1.0968 - accuracy: 0.6316 - val_loss: 1.0501 - val_accuracy: 0.6526\n",
      "Epoch 24/30\n",
      "1563/1563 [==============================] - 13s 8ms/step - loss: 1.0900 - accuracy: 0.6318 - val_loss: 1.1414 - val_accuracy: 0.6302\n",
      "Epoch 25/30\n",
      "1563/1563 [==============================] - 13s 8ms/step - loss: 1.0924 - accuracy: 0.6317 - val_loss: 1.2680 - val_accuracy: 0.5636\n",
      "Epoch 26/30\n",
      "1563/1563 [==============================] - 13s 8ms/step - loss: 1.1026 - accuracy: 0.6254 - val_loss: 1.1573 - val_accuracy: 0.6120\n",
      "Epoch 27/30\n",
      "1563/1563 [==============================] - 13s 8ms/step - loss: 1.0925 - accuracy: 0.6312 - val_loss: 1.1429 - val_accuracy: 0.6237\n",
      "Epoch 28/30\n",
      "1563/1563 [==============================] - 13s 8ms/step - loss: 1.0901 - accuracy: 0.6302 - val_loss: 1.1316 - val_accuracy: 0.6218\n",
      "Epoch 29/30\n",
      "1563/1563 [==============================] - 13s 8ms/step - loss: 1.1101 - accuracy: 0.6244 - val_loss: 1.1031 - val_accuracy: 0.6399\n",
      "Epoch 30/30\n",
      "1563/1563 [==============================] - 13s 9ms/step - loss: 1.1060 - accuracy: 0.6302 - val_loss: 1.3847 - val_accuracy: 0.5803\n"
     ]
    },
    {
     "data": {
      "text/plain": [
       "<tensorflow.python.keras.callbacks.History at 0x16e147b99d0>"
      ]
     },
     "execution_count": 10,
     "metadata": {},
     "output_type": "execute_result"
    }
   ],
   "source": [
    "batch_size = 32\n",
    "\n",
    "# initiate RMSprop optimizer\n",
    "opt = keras.optimizers.RMSprop(lr=0.0005, decay=1e-6)\n",
    "\n",
    "# Let's train the model using RMSprop\n",
    "model_1.compile(loss='categorical_crossentropy',\n",
    "              optimizer=opt,\n",
    "              metrics=['accuracy'])\n",
    "\n",
    "model_1.fit(x_train, y_train,\n",
    "              batch_size=batch_size,\n",
    "              epochs=30,\n",
    "              validation_data=(x_test, y_test),\n",
    "              shuffle=True)"
   ]
  },
  {
   "cell_type": "code",
   "execution_count": 18,
   "metadata": {},
   "outputs": [
    {
     "data": {
      "text/plain": [
       "array([[8.9528086e-03, 5.6337316e-02, 1.4437743e-02, ..., 1.2548126e-03,\n",
       "        2.3271401e-01, 2.6679404e-02],\n",
       "       [1.3748572e-03, 2.6689680e-02, 1.3751502e-19, ..., 5.5479961e-28,\n",
       "        9.7193199e-01, 3.4395889e-06],\n",
       "       [2.7397504e-01, 4.6059329e-02, 1.2468722e-03, ..., 1.2613263e-04,\n",
       "        6.1897582e-01, 5.9008781e-02],\n",
       "       ...,\n",
       "       [2.1723828e-05, 4.3223199e-08, 2.2604674e-02, ..., 1.2575452e-01,\n",
       "        1.8207586e-06, 2.1153101e-06],\n",
       "       [3.9580026e-01, 7.2338417e-02, 6.3563831e-02, ..., 2.6531953e-01,\n",
       "        2.3809832e-04, 1.4708329e-02],\n",
       "       [5.4875441e-06, 4.6035172e-08, 1.3568862e-04, ..., 8.1947201e-01,\n",
       "        9.3649610e-10, 2.3995892e-07]], dtype=float32)"
      ]
     },
     "execution_count": 18,
     "metadata": {},
     "output_type": "execute_result"
    }
   ],
   "source": [
    "#model_1.predict_classes(x_test)\n",
    "model_1.predict(x_test)"
   ]
  },
  {
   "cell_type": "code",
   "execution_count": 19,
   "metadata": {},
   "outputs": [
    {
     "data": {
      "text/plain": [
       "array([3, 8, 8, ..., 5, 1, 7], dtype=int64)"
      ]
     },
     "execution_count": 19,
     "metadata": {},
     "output_type": "execute_result"
    }
   ],
   "source": [
    "import numpy as np\n",
    "np.argmax(y_test,axis=1)"
   ]
  },
  {
   "cell_type": "code",
   "execution_count": 20,
   "metadata": {},
   "outputs": [
    {
     "name": "stderr",
     "output_type": "stream",
     "text": [
      "C:\\Users\\KonuTech\\AppData\\Roaming\\Python\\Python38\\site-packages\\tensorflow\\python\\keras\\engine\\sequential.py:450: UserWarning: `model.predict_classes()` is deprecated and will be removed after 2021-01-01. Please use instead:* `np.argmax(model.predict(x), axis=-1)`,   if your model does multi-class classification   (e.g. if it uses a `softmax` last-layer activation).* `(model.predict(x) > 0.5).astype(\"int32\")`,   if your model does binary classification   (e.g. if it uses a `sigmoid` last-layer activation).\n",
      "  warnings.warn('`model.predict_classes()` is deprecated and '\n"
     ]
    },
    {
     "data": {
      "text/plain": [
       "0.5803"
      ]
     },
     "execution_count": 20,
     "metadata": {},
     "output_type": "execute_result"
    }
   ],
   "source": [
    "from sklearn.metrics import accuracy_score\n",
    "accuracy_score(np.argmax(y_test, axis=1), model_1.predict_classes(x_test))"
   ]
  },
  {
   "cell_type": "markdown",
   "metadata": {},
   "source": [
    "### Exercise\n",
    "Our previous model had the structure:\n",
    "\n",
    "Conv -> Conv -> MaxPool -> (Flatten) -> Dense -> Final Classification\n",
    "\n",
    "(with appropriate activation functions and dropouts)\n",
    "\n",
    "1. Build a more complicated model with the following pattern:\n",
    "- Conv -> Conv -> MaxPool -> Conv -> Conv -> MaxPool -> (Flatten) -> Dense -> Final Classification\n",
    "\n",
    "- Use strides of 1 for all convolutional layers.\n",
    "\n",
    "2. How many parameters does your model have?  How does that compare to the previous model?\n",
    "\n",
    "3. Train it for 5 epochs.  What do you notice about the training time, loss and accuracy numbers (on both the training and validation sets)?\n",
    "\n",
    "5. Try different structures and run times, and see how accurate your model can be.\n"
   ]
  },
  {
   "cell_type": "code",
   "execution_count": 11,
   "metadata": {},
   "outputs": [],
   "source": [
    "# Let's build a CNN using Keras' Sequential capabilities\n",
    "\n",
    "model_2 = Sequential()\n",
    "\n",
    "model_2.add(Conv2D(32, (3, 3), padding='same',\n",
    "                 input_shape=x_train.shape[1:]))\n",
    "model_2.add(Activation('relu'))\n",
    "model_2.add(Conv2D(32, (3, 3)))\n",
    "model_2.add(Activation('relu'))\n",
    "model_2.add(MaxPooling2D(pool_size=(2, 2)))\n",
    "model_2.add(Dropout(0.25))\n",
    "\n",
    "model_2.add(Conv2D(64, (3, 3), padding='same'))\n",
    "model_2.add(Activation('relu'))\n",
    "model_2.add(Conv2D(64, (3, 3)))\n",
    "model_2.add(Activation('relu'))\n",
    "model_2.add(MaxPooling2D(pool_size=(2, 2)))\n",
    "model_2.add(Dropout(0.25))\n",
    "\n",
    "model_2.add(Flatten())\n",
    "model_2.add(Dense(512))\n",
    "model_2.add(Activation('relu'))\n",
    "model_2.add(Dropout(0.5))\n",
    "model_2.add(Dense(num_classes))\n",
    "model_2.add(Activation('softmax'))"
   ]
  },
  {
   "cell_type": "code",
   "execution_count": 12,
   "metadata": {},
   "outputs": [
    {
     "name": "stdout",
     "output_type": "stream",
     "text": [
      "Model: \"sequential_1\"\n",
      "_________________________________________________________________\n",
      "Layer (type)                 Output Shape              Param #   \n",
      "=================================================================\n",
      "conv2d_2 (Conv2D)            (None, 32, 32, 32)        896       \n",
      "_________________________________________________________________\n",
      "activation_4 (Activation)    (None, 32, 32, 32)        0         \n",
      "_________________________________________________________________\n",
      "conv2d_3 (Conv2D)            (None, 30, 30, 32)        9248      \n",
      "_________________________________________________________________\n",
      "activation_5 (Activation)    (None, 30, 30, 32)        0         \n",
      "_________________________________________________________________\n",
      "max_pooling2d_1 (MaxPooling2 (None, 15, 15, 32)        0         \n",
      "_________________________________________________________________\n",
      "dropout_2 (Dropout)          (None, 15, 15, 32)        0         \n",
      "_________________________________________________________________\n",
      "conv2d_4 (Conv2D)            (None, 15, 15, 64)        18496     \n",
      "_________________________________________________________________\n",
      "activation_6 (Activation)    (None, 15, 15, 64)        0         \n",
      "_________________________________________________________________\n",
      "conv2d_5 (Conv2D)            (None, 13, 13, 64)        36928     \n",
      "_________________________________________________________________\n",
      "activation_7 (Activation)    (None, 13, 13, 64)        0         \n",
      "_________________________________________________________________\n",
      "max_pooling2d_2 (MaxPooling2 (None, 6, 6, 64)          0         \n",
      "_________________________________________________________________\n",
      "dropout_3 (Dropout)          (None, 6, 6, 64)          0         \n",
      "_________________________________________________________________\n",
      "flatten_1 (Flatten)          (None, 2304)              0         \n",
      "_________________________________________________________________\n",
      "dense_2 (Dense)              (None, 512)               1180160   \n",
      "_________________________________________________________________\n",
      "activation_8 (Activation)    (None, 512)               0         \n",
      "_________________________________________________________________\n",
      "dropout_4 (Dropout)          (None, 512)               0         \n",
      "_________________________________________________________________\n",
      "dense_3 (Dense)              (None, 10)                5130      \n",
      "_________________________________________________________________\n",
      "activation_9 (Activation)    (None, 10)                0         \n",
      "=================================================================\n",
      "Total params: 1,250,858\n",
      "Trainable params: 1,250,858\n",
      "Non-trainable params: 0\n",
      "_________________________________________________________________\n"
     ]
    }
   ],
   "source": [
    "## Check number of parameters\n",
    "\n",
    "model_2.summary()"
   ]
  },
  {
   "cell_type": "code",
   "execution_count": 13,
   "metadata": {},
   "outputs": [],
   "source": [
    "# initiate RMSprop optimizer\n",
    "opt_2 = keras.optimizers.RMSprop(lr=0.0005)\n",
    "\n",
    "# Let's train the model using RMSprop\n",
    "model_2.compile(loss='categorical_crossentropy',\n",
    "              optimizer=opt_2,\n",
    "              metrics=['accuracy'])"
   ]
  },
  {
   "cell_type": "code",
   "execution_count": 14,
   "metadata": {
    "scrolled": true
   },
   "outputs": [
    {
     "name": "stdout",
     "output_type": "stream",
     "text": [
      "Epoch 1/30\n",
      "1563/1563 [==============================] - 90s 57ms/step - loss: 1.8065 - accuracy: 0.3352 - val_loss: 1.2646 - val_accuracy: 0.5497\n",
      "Epoch 2/30\n",
      "1563/1563 [==============================] - 89s 57ms/step - loss: 1.2363 - accuracy: 0.5627 - val_loss: 1.0767 - val_accuracy: 0.6119\n",
      "Epoch 3/30\n",
      "1563/1563 [==============================] - 88s 56ms/step - loss: 1.0500 - accuracy: 0.6320 - val_loss: 1.0300 - val_accuracy: 0.6560\n",
      "Epoch 4/30\n",
      "1563/1563 [==============================] - 91s 58ms/step - loss: 0.9512 - accuracy: 0.6703 - val_loss: 0.8188 - val_accuracy: 0.7182\n",
      "Epoch 5/30\n",
      "1563/1563 [==============================] - 90s 57ms/step - loss: 0.8801 - accuracy: 0.6999 - val_loss: 0.7967 - val_accuracy: 0.7285\n",
      "Epoch 6/30\n",
      "1563/1563 [==============================] - 89s 57ms/step - loss: 0.8442 - accuracy: 0.7127 - val_loss: 0.7504 - val_accuracy: 0.7408\n",
      "Epoch 7/30\n",
      "1563/1563 [==============================] - 88s 56ms/step - loss: 0.8214 - accuracy: 0.7211 - val_loss: 0.8118 - val_accuracy: 0.7291\n",
      "Epoch 8/30\n",
      "1563/1563 [==============================] - 85s 55ms/step - loss: 0.7978 - accuracy: 0.7285 - val_loss: 0.8058 - val_accuracy: 0.7246\n",
      "Epoch 9/30\n",
      "1563/1563 [==============================] - 86s 55ms/step - loss: 0.7788 - accuracy: 0.7354 - val_loss: 0.8922 - val_accuracy: 0.7021\n",
      "Epoch 10/30\n",
      "1563/1563 [==============================] - 85s 54ms/step - loss: 0.7918 - accuracy: 0.7361 - val_loss: 0.7981 - val_accuracy: 0.7370\n",
      "Epoch 11/30\n",
      "1563/1563 [==============================] - 85s 54ms/step - loss: 0.7973 - accuracy: 0.7326 - val_loss: 0.7401 - val_accuracy: 0.7562\n",
      "Epoch 12/30\n",
      "1563/1563 [==============================] - 87s 55ms/step - loss: 0.7994 - accuracy: 0.7357 - val_loss: 0.7458 - val_accuracy: 0.7518\n",
      "Epoch 13/30\n",
      "1563/1563 [==============================] - 87s 56ms/step - loss: 0.8136 - accuracy: 0.7325 - val_loss: 0.8789 - val_accuracy: 0.7205\n",
      "Epoch 14/30\n",
      "1563/1563 [==============================] - 86s 55ms/step - loss: 0.8356 - accuracy: 0.7275 - val_loss: 0.9291 - val_accuracy: 0.7140\n",
      "Epoch 15/30\n",
      "1563/1563 [==============================] - 85s 54ms/step - loss: 0.8471 - accuracy: 0.7221 - val_loss: 0.9396 - val_accuracy: 0.7233\n",
      "Epoch 16/30\n",
      "1563/1563 [==============================] - 88s 56ms/step - loss: 0.8534 - accuracy: 0.7261 - val_loss: 1.6519 - val_accuracy: 0.5947\n",
      "Epoch 17/30\n",
      "1563/1563 [==============================] - 87s 56ms/step - loss: 0.8797 - accuracy: 0.7135 - val_loss: 0.8664 - val_accuracy: 0.7297\n",
      "Epoch 18/30\n",
      "1563/1563 [==============================] - 88s 56ms/step - loss: 0.9017 - accuracy: 0.7111 - val_loss: 0.8250 - val_accuracy: 0.7349\n",
      "Epoch 19/30\n",
      "1563/1563 [==============================] - 87s 56ms/step - loss: 0.9173 - accuracy: 0.7073 - val_loss: 0.7780 - val_accuracy: 0.7414\n",
      "Epoch 20/30\n",
      "1563/1563 [==============================] - 87s 55ms/step - loss: 0.9440 - accuracy: 0.7008 - val_loss: 1.2735 - val_accuracy: 0.6434\n",
      "Epoch 21/30\n",
      "1563/1563 [==============================] - 86s 55ms/step - loss: 0.9465 - accuracy: 0.7004 - val_loss: 0.9078 - val_accuracy: 0.7129\n",
      "Epoch 22/30\n",
      "1563/1563 [==============================] - 86s 55ms/step - loss: 0.9940 - accuracy: 0.6883 - val_loss: 0.8294 - val_accuracy: 0.7415\n",
      "Epoch 23/30\n",
      "1563/1563 [==============================] - 85s 55ms/step - loss: 1.0138 - accuracy: 0.6781 - val_loss: 0.9509 - val_accuracy: 0.6939\n",
      "Epoch 24/30\n",
      "1563/1563 [==============================] - 86s 55ms/step - loss: 1.0648 - accuracy: 0.6662 - val_loss: 0.9235 - val_accuracy: 0.7052\n",
      "Epoch 25/30\n",
      "1563/1563 [==============================] - 85s 54ms/step - loss: 1.0978 - accuracy: 0.6543 - val_loss: 1.0233 - val_accuracy: 0.6668\n",
      "Epoch 26/30\n",
      "1563/1563 [==============================] - 86s 55ms/step - loss: 1.1562 - accuracy: 0.6422 - val_loss: 0.9892 - val_accuracy: 0.6528\n",
      "Epoch 27/30\n",
      "1563/1563 [==============================] - 85s 55ms/step - loss: 1.1901 - accuracy: 0.6282 - val_loss: 1.0148 - val_accuracy: 0.6787\n",
      "Epoch 28/30\n",
      "1563/1563 [==============================] - 86s 55ms/step - loss: 1.2149 - accuracy: 0.6177 - val_loss: 1.1141 - val_accuracy: 0.6328\n",
      "Epoch 29/30\n",
      "1563/1563 [==============================] - 87s 55ms/step - loss: 1.2416 - accuracy: 0.6092 - val_loss: 1.2195 - val_accuracy: 0.6046\n",
      "Epoch 30/30\n",
      "1563/1563 [==============================] - 86s 55ms/step - loss: 1.2988 - accuracy: 0.5955 - val_loss: 1.1267 - val_accuracy: 0.6171\n"
     ]
    },
    {
     "data": {
      "text/plain": [
       "<tensorflow.python.keras.callbacks.History at 0x16e170dd400>"
      ]
     },
     "execution_count": 14,
     "metadata": {},
     "output_type": "execute_result"
    }
   ],
   "source": [
    "model_2.fit(x_train, y_train,\n",
    "              batch_size=batch_size,\n",
    "              epochs=30,\n",
    "              validation_data=(x_test, y_test),\n",
    "              shuffle=True)"
   ]
  },
  {
   "cell_type": "code",
   "execution_count": 21,
   "metadata": {},
   "outputs": [
    {
     "data": {
      "text/plain": [
       "array([[5.45028970e-02, 2.15618126e-02, 1.71754584e-01, ...,\n",
       "        3.33862901e-02, 1.62941843e-01, 7.27808401e-02],\n",
       "       [3.16318870e-02, 3.19279283e-02, 1.18627768e-05, ...,\n",
       "        2.49525423e-09, 9.32167292e-01, 4.26053023e-03],\n",
       "       [9.69313979e-02, 4.32164110e-02, 6.12046523e-03, ...,\n",
       "        7.16109862e-05, 8.26228619e-01, 2.66263336e-02],\n",
       "       ...,\n",
       "       [5.59598487e-03, 6.24007589e-05, 3.71869326e-01, ...,\n",
       "        7.51192048e-02, 4.10276931e-04, 3.67135595e-04],\n",
       "       [7.25430697e-02, 6.29263371e-02, 2.14962006e-01, ...,\n",
       "        3.66952084e-03, 1.07033895e-02, 6.95805671e-03],\n",
       "       [7.30960528e-06, 1.02822939e-09, 2.75166100e-03, ...,\n",
       "        9.36521351e-01, 1.55345525e-09, 2.78202883e-09]], dtype=float32)"
      ]
     },
     "execution_count": 21,
     "metadata": {},
     "output_type": "execute_result"
    }
   ],
   "source": [
    "#model_2.predict_classes(x_test)\n",
    "model_2.predict(x_test)"
   ]
  },
  {
   "cell_type": "code",
   "execution_count": 22,
   "metadata": {},
   "outputs": [
    {
     "data": {
      "text/plain": [
       "array([3, 8, 8, ..., 5, 1, 7], dtype=int64)"
      ]
     },
     "execution_count": 22,
     "metadata": {},
     "output_type": "execute_result"
    }
   ],
   "source": [
    "np.argmax(y_test,axis=1)"
   ]
  },
  {
   "cell_type": "code",
   "execution_count": 24,
   "metadata": {},
   "outputs": [
    {
     "data": {
      "text/plain": [
       "0.6171"
      ]
     },
     "execution_count": 24,
     "metadata": {},
     "output_type": "execute_result"
    }
   ],
   "source": [
    "accuracy_score(np.argmax(y_test, axis=1), model_2.predict_classes(x_test))"
   ]
  },
  {
   "cell_type": "markdown",
   "metadata": {},
   "source": [
    "---\n",
    "### Machine Learning Foundation (C) 2020 IBM Corporation"
   ]
  },
  {
   "cell_type": "code",
   "execution_count": null,
   "metadata": {},
   "outputs": [],
   "source": []
  }
 ],
 "metadata": {
  "kernelspec": {
   "display_name": "Python 3",
   "language": "python",
   "name": "python3"
  },
  "language_info": {
   "codemirror_mode": {
    "name": "ipython",
    "version": 3
   },
   "file_extension": ".py",
   "mimetype": "text/x-python",
   "name": "python",
   "nbconvert_exporter": "python",
   "pygments_lexer": "ipython3",
   "version": "3.8.5"
  }
 },
 "nbformat": 4,
 "nbformat_minor": 4
}
