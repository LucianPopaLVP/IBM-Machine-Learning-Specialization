{
 "cells": [
  {
   "cell_type": "markdown",
   "metadata": {
    "run_control": {
     "marked": true
    }
   },
   "source": [
    "# Machine Learning Foundation\n",
    "\n",
    "## Course 6, Part b: Decomposition LAB"
   ]
  },
  {
   "cell_type": "markdown",
   "metadata": {},
   "source": [
    "# Introduction\n",
    "\n",
    "Here we will discuss decomposition of your time series data into three components: \n",
    "1. Trend\n",
    "2. Seasonality\n",
    "3. Residual \n",
    "\n",
    "\n",
    "# Learning Outcomes\n",
    "\n",
    "What will we accomplish?\n",
    "1. First, we'll separately construct each time series component. \n",
    "2. Then we'll bring the three components together to create a simulated time series dataset. \n",
    "3. Finally, we'll leverage time series model decomposition in Python to deconstruct the series. \n",
    "\n",
    "We'll complete this process for the two most common processes: additive and multiplicative.\n",
    "\n",
    "The whole point of this exercise is to get you familiar with time series data and simple modeling approaches. \n",
    "\n",
    "You should walk away from this tutorial with:\n",
    "1. A practical understanding of the three components of time series data \n",
    "2. A better understanding of additive and multiplicative models\n",
    "3. A simple way to decompose time series data in Python\n",
    "\n",
    "# Imports"
   ]
  },
  {
   "cell_type": "code",
   "execution_count": 1,
   "metadata": {},
   "outputs": [],
   "source": [
    "import sys\n",
    "import statsmodels as ss\n",
    "import numpy as np\n",
    "import matplotlib\n",
    "import matplotlib.pyplot as plt\n",
    "import os\n",
    "import seaborn as sns\n",
    "#os.chdir('data')\n",
    "#from colorsetup import colors, palette\n",
    "#sns.set_palette(palette)\n"
   ]
  },
  {
   "cell_type": "markdown",
   "metadata": {},
   "source": [
    "---\n",
    "# Section 1: Construct Trend, Seasonality, and Residual Components\n",
    "\n",
    "In this lesson, we will individually construct fictional trend, seasonality, and residual components. This is merely an example to show you how a simple time series dataset is constructed. This will aid your understanding later on. In the meantime, let's create a time interval of minutes. "
   ]
  },
  {
   "cell_type": "code",
   "execution_count": 2,
   "metadata": {},
   "outputs": [],
   "source": [
    "time = np.arange(1, 51)"
   ]
  },
  {
   "cell_type": "markdown",
   "metadata": {},
   "source": [
    "Now we need to create a trend. Let's pretend we have a sensor measuring demand for electricity. We'll ignore units to keep things simple."
   ]
  },
  {
   "cell_type": "code",
   "execution_count": 3,
   "metadata": {},
   "outputs": [],
   "source": [
    "trend = time * 2.75"
   ]
  },
  {
   "cell_type": "markdown",
   "metadata": {},
   "source": [
    "What folllows is a plot showing trend as a function of time."
   ]
  },
  {
   "cell_type": "code",
   "execution_count": null,
   "metadata": {},
   "outputs": [],
   "source": [
    "plt.plot(time, trend, 'b.')\n",
    "plt.title(\"Trend vs Time\")\n",
    "plt.xlabel(\"minutes\")\n",
    "plt.ylabel(\"electricity demand\");"
   ]
  },
  {
   "cell_type": "markdown",
   "metadata": {},
   "source": [
    "Great! Now let's generate a seasonal component."
   ]
  },
  {
   "cell_type": "code",
   "execution_count": null,
   "metadata": {},
   "outputs": [],
   "source": [
    "seasonal = 10 + np.sin(time) * 10"
   ]
  },
  {
   "cell_type": "markdown",
   "metadata": {},
   "source": [
    "Naturally, we'll want to plot our seasonality."
   ]
  },
  {
   "cell_type": "code",
   "execution_count": null,
   "metadata": {},
   "outputs": [],
   "source": [
    "plt.plot(time, seasonal, 'g-.')\n",
    "plt.title(\"Seasonality vs Time\")\n",
    "plt.xlabel(\"minutes\")\n",
    "plt.ylabel(\"electricity demand\");"
   ]
  },
  {
   "cell_type": "markdown",
   "metadata": {},
   "source": [
    "And now to construct the residual component."
   ]
  },
  {
   "cell_type": "code",
   "execution_count": null,
   "metadata": {},
   "outputs": [],
   "source": [
    "np.random.seed(10)  # reproducible results\n",
    "residual = np.random.normal(loc=0.0, scale=1, size=len(time))"
   ]
  },
  {
   "cell_type": "markdown",
   "metadata": {},
   "source": [
    "A quick plot of residuals..."
   ]
  },
  {
   "cell_type": "code",
   "execution_count": null,
   "metadata": {},
   "outputs": [],
   "source": [
    "plt.plot(time, residual, 'r-.')\n",
    "plt.title(\"Residuals vs Time\")\n",
    "plt.xlabel(\"minutes\")\n",
    "plt.ylabel(\"electricity demand\");"
   ]
  },
  {
   "cell_type": "markdown",
   "metadata": {},
   "source": [
    "Quick recap: We created data for the fictional demand of electricity as measured by a fictional sensor. We did this by creating the three necessary components of time series data, which include trend, seasonality, and residuals. \n",
    "\n",
    "Next step: Aggregate the three components to create time series data. We'll do this for two different types of models: additive and multiplicative."
   ]
  },
  {
   "cell_type": "markdown",
   "metadata": {},
   "source": [
    "---\n",
    "# Section 2: Aggregate Trend, Seasonality, and Residual Components\n",
    "\n",
    "### Additive Time Series\n",
    "Remember the equation for additive time series is simply: $O_{t} = T_{t} + S_{t} + R_{t}$ \n",
    "\n",
    "$O_{t}$ is the output   \n",
    "$T_{t}$ is the trend  \n",
    "$S_{t}$ is the seasonality  \n",
    "$R_{t}$ is the residual  \n",
    "$_t$ is a variable representing a particular point in time "
   ]
  },
  {
   "cell_type": "code",
   "execution_count": null,
   "metadata": {},
   "outputs": [],
   "source": [
    "additive = trend + seasonal + residual"
   ]
  },
  {
   "cell_type": "code",
   "execution_count": null,
   "metadata": {},
   "outputs": [],
   "source": [
    "plt.plot(time, additive, 'k.')\n",
    "plt.title(\"Additive Time Series\")\n",
    "plt.xlabel(\"minutes\")\n",
    "plt.ylabel(\"electricity demand\");"
   ]
  },
  {
   "cell_type": "markdown",
   "metadata": {},
   "source": [
    "We clearly see trend and seasonality in the plot above, as expected.\n",
    "\n",
    "Now let's build a multiplicative time series dataset. "
   ]
  },
  {
   "cell_type": "markdown",
   "metadata": {},
   "source": [
    "### Multiplicative Time Series\n",
    "\n",
    "Remember the equation for multiplicative time series is simply: $O_{t} = T_{t} * S_{t} * R_{t}$ "
   ]
  },
  {
   "cell_type": "code",
   "execution_count": null,
   "metadata": {},
   "outputs": [],
   "source": [
    "# ignoring residual to make pattern more apparent\n",
    "ignored_residual = np.ones_like(residual)\n",
    "multiplicative = trend * seasonal * ignored_residual"
   ]
  },
  {
   "cell_type": "code",
   "execution_count": null,
   "metadata": {},
   "outputs": [],
   "source": [
    "plt.plot(time, multiplicative, 'k-.')\n",
    "plt.title(\"Multiplicative Time Series\")\n",
    "plt.xlabel(\"minutes\")\n",
    "plt.ylabel(\"electricity demand\");"
   ]
  },
  {
   "cell_type": "markdown",
   "metadata": {},
   "source": [
    "### Exercise #1\n",
    "In this exercise, your task is two-fold:\n",
    "1. Determine if **Dataset_A** and **Dataset_B** are additive or multiplicative time series.\n",
    "2. Determine the frequency of the seasonal component."
   ]
  },
  {
   "cell_type": "markdown",
   "metadata": {},
   "source": [
    "#### Set Path / Load Datasets"
   ]
  },
  {
   "cell_type": "code",
   "execution_count": null,
   "metadata": {},
   "outputs": [],
   "source": [
    "### BEGIN SOLUTION\n",
    "# get data\n",
    "path_to_file = \"./\"\n",
    "\n",
    "time = np.arange(0, 50)\n",
    "dataset_A = np.load(path_to_file + \"dataset_A.npy\")\n",
    "dataset_B = np.load(path_to_file + \"dataset_B.npy\")"
   ]
  },
  {
   "cell_type": "markdown",
   "metadata": {},
   "source": [
    "#### Plot Dataset_A"
   ]
  },
  {
   "cell_type": "code",
   "execution_count": null,
   "metadata": {},
   "outputs": [],
   "source": [
    "plt.plot(time, dataset_A, 'k-')\n",
    "plt.title(\"1st Time Series Dataset\")\n",
    "plt.xlabel(\"minutes\")\n",
    "plt.xticks(np.linspace(1,51,11, dtype='int'))\n",
    "plt.ylabel(\"units\")\n",
    "plt.grid(alpha=0.3);"
   ]
  },
  {
   "cell_type": "markdown",
   "metadata": {},
   "source": [
    "#### Additive or Multiplicative?"
   ]
  },
  {
   "cell_type": "markdown",
   "metadata": {},
   "source": [
    "*Dataset A is multiplicative. We know this because magnitude of the seasonality component in the 1st plot above is dependent on the trend.*"
   ]
  },
  {
   "cell_type": "markdown",
   "metadata": {},
   "source": [
    "#### Frequency of Seasonal Component?"
   ]
  },
  {
   "cell_type": "markdown",
   "metadata": {},
   "source": [
    "*The frequency appears to be ~6 for Dataset_A.*"
   ]
  },
  {
   "cell_type": "markdown",
   "metadata": {},
   "source": [
    "#### Plot Dataset_B"
   ]
  },
  {
   "cell_type": "code",
   "execution_count": null,
   "metadata": {},
   "outputs": [],
   "source": [
    "plt.plot(time, dataset_B, 'k-')\n",
    "plt.title(\"2nd Time Series Dataset\")\n",
    "plt.xlabel(\"minutes\")\n",
    "plt.xticks(np.linspace(1,51,11, dtype='int'))\n",
    "plt.ylabel(\"units\")\n",
    "plt.ylim(0, 32)\n",
    "plt.grid(alpha=0.3);"
   ]
  },
  {
   "cell_type": "markdown",
   "metadata": {},
   "source": [
    "#### Additive or Multiplicative?"
   ]
  },
  {
   "cell_type": "markdown",
   "metadata": {},
   "source": [
    "*Dataset B is additive. We know this because the magnitude of the seasonality component in the 2nd plot above is independent of the trend.*"
   ]
  },
  {
   "cell_type": "markdown",
   "metadata": {},
   "source": [
    "#### Frequency of Seasonal Component?"
   ]
  },
  {
   "cell_type": "markdown",
   "metadata": {},
   "source": [
    "*The frequency appears to be ~3 for Dataset_B*.\n",
    "### END SOLUTION"
   ]
  },
  {
   "cell_type": "markdown",
   "metadata": {},
   "source": [
    "---\n",
    "# Section 3: Time Series Decomposition\n",
    "\n",
    "Now let's reverse directions. We have additive and multiplicative data. Let's decompose them into their three components. \n",
    "\n",
    "Please note that the goal here is NOT to understand HOW the decomposition works. Rather, the goal is simply to see that the time series data that we previously constructed can be decomposed into its three constituent parts: trend, seasonality, and residual.\n",
    "> *Optional: look [here](http://www.statsmodels.org/dev/generated/statsmodels.tsa.seasonal.seasonal_decompose.html) for details on how the following method works.*\n",
    "\n",
    "Let's take a look."
   ]
  },
  {
   "cell_type": "markdown",
   "metadata": {},
   "source": [
    "### Additive Decomposition"
   ]
  },
  {
   "cell_type": "code",
   "execution_count": null,
   "metadata": {},
   "outputs": [],
   "source": [
    "from statsmodels.tsa.seasonal import seasonal_decompose\n",
    "\n",
    "ss_decomposition = seasonal_decompose(x=additive, model='additive', period=6)\n",
    "estimated_trend = ss_decomposition.trend\n",
    "estimated_seasonal = ss_decomposition.seasonal\n",
    "estimated_residual = ss_decomposition.resid"
   ]
  },
  {
   "cell_type": "markdown",
   "metadata": {},
   "source": [
    "### Additive Plots"
   ]
  },
  {
   "cell_type": "code",
   "execution_count": null,
   "metadata": {},
   "outputs": [],
   "source": [
    "fig, axes = plt.subplots(4, 1, sharex=True, sharey=False)\n",
    "fig.set_figheight(10)\n",
    "fig.set_figwidth(15)\n",
    "\n",
    "axes[0].plot(additive, label='Original')\n",
    "axes[0].legend(loc='upper left');\n",
    "\n",
    "axes[1].plot(estimated_trend, label='Trend')\n",
    "axes[1].legend(loc='upper left');\n",
    "\n",
    "axes[2].plot(estimated_seasonal, label='Seasonality')\n",
    "axes[2].legend(loc='upper left');\n",
    "\n",
    "axes[3].plot(estimated_residual, label='Residuals')\n",
    "axes[3].legend(loc='upper left');"
   ]
  },
  {
   "cell_type": "markdown",
   "metadata": {},
   "source": [
    "The blue line in each plot representes the decomposition. There is a legend in the upper left corner of each plot to let you know what each plot represents. \n",
    "\n",
    "You can see the decomposition is not perfect with regards to seasonality and residuals, but it's pretty close! \n",
    "\n",
    "**NOTE:** You may notice both *trend* and *residuals* are missing data towards the beginning and end. This has to do with how trend is calculated (beyond the scope of this lesson). The residuals are missing simply because $R_{t} = O_{t} - T_{t} - S_{t}$, so missing trend values mean missing residual values as well. In other words, there is nothing wrong with these graphs. "
   ]
  },
  {
   "cell_type": "markdown",
   "metadata": {},
   "source": [
    "### Multiplicative Decomposition"
   ]
  },
  {
   "cell_type": "code",
   "execution_count": null,
   "metadata": {},
   "outputs": [],
   "source": [
    "ss_decomposition = seasonal_decompose(x=multiplicative, model='multiplicative', period=6)\n",
    "estimated_trend = ss_decomposition.trend\n",
    "estimated_seasonal = ss_decomposition.seasonal\n",
    "estimated_residual = ss_decomposition.resid"
   ]
  },
  {
   "cell_type": "markdown",
   "metadata": {},
   "source": [
    "### Multiplicative Plots"
   ]
  },
  {
   "cell_type": "code",
   "execution_count": null,
   "metadata": {},
   "outputs": [],
   "source": [
    "fig, axes = plt.subplots(4, 1, sharex=True, sharey=False)\n",
    "fig.set_figheight(10)\n",
    "fig.set_figwidth(15)\n",
    "\n",
    "axes[0].plot(multiplicative, label='Original')\n",
    "axes[0].legend(loc='upper left');\n",
    "\n",
    "axes[1].plot(estimated_trend, label='Trend')\n",
    "axes[1].legend(loc='upper left');\n",
    "\n",
    "axes[2].plot(estimated_seasonal, label='Seasonality')\n",
    "axes[2].legend(loc='upper left');\n",
    "\n",
    "axes[3].plot(estimated_residual, label='Residuals')\n",
    "axes[3].legend(loc='upper left');"
   ]
  },
  {
   "cell_type": "markdown",
   "metadata": {},
   "source": [
    "Again, the decomposition does a relatively good job picking up the overall trend and seasonality. We can see the shapes follow the patterns we expect. "
   ]
  },
  {
   "cell_type": "markdown",
   "metadata": {},
   "source": [
    "### Exercise #2\n",
    "In this exercise, your task is decompose **Dataset_A** and **Dataset_B**. You should first create a decomposition model in Python. Then you should plot the original series, the trend, seasonality, and residuals, in that order. "
   ]
  },
  {
   "cell_type": "markdown",
   "metadata": {},
   "source": [
    "#### Decomposition Models"
   ]
  },
  {
   "cell_type": "code",
   "execution_count": null,
   "metadata": {},
   "outputs": [],
   "source": [
    "from statsmodels.tsa.seasonal import seasonal_decompose\n",
    "\n",
    "### BEGIN SOLUTION\n",
    "ss_decomposition_multi = seasonal_decompose(x=dataset_A, \n",
    "                                            model='multiplicative',\n",
    "#                                             period=3\n",
    "                                            period=11)\n",
    "\n",
    "estimated_trend_multi = ss_decomposition_multi.trend\n",
    "estimated_seasonal_multi = ss_decomposition_multi.seasonal\n",
    "estimated_residual_multi = ss_decomposition_multi.resid\n",
    "\n",
    "\n",
    "ss_decomposition_add = seasonal_decompose(x=dataset_B, \n",
    "                                          model='additive', \n",
    "                                          period=11)\n",
    "\n",
    "estimated_trend_add = ss_decomposition_add.trend\n",
    "estimated_seasonal_add = ss_decomposition_add.seasonal\n",
    "estimated_residual_add = ss_decomposition_add.resid"
   ]
  },
  {
   "cell_type": "markdown",
   "metadata": {},
   "source": [
    "#### Dataset_A Plot -- multiplicative"
   ]
  },
  {
   "cell_type": "code",
   "execution_count": null,
   "metadata": {},
   "outputs": [],
   "source": [
    "from statsmodels.graphics.tsaplots import plot_acf\n",
    "plot_acf(dataset_A)"
   ]
  },
  {
   "cell_type": "code",
   "execution_count": null,
   "metadata": {},
   "outputs": [],
   "source": [
    "fig, axes = plt.subplots(4, 1, sharex=True, sharey=False)\n",
    "fig.set_figheight(10)\n",
    "fig.set_figwidth(15)\n",
    "\n",
    "axes[0].plot(dataset_A, label='Original')\n",
    "axes[0].legend(loc='upper left');\n",
    "\n",
    "axes[1].plot(estimated_trend_multi, label='Trend')\n",
    "axes[1].legend(loc='upper left');\n",
    "\n",
    "axes[2].plot(estimated_seasonal_multi, label='Seasonality')\n",
    "axes[2].legend(loc='upper left');\n",
    "\n",
    "axes[3].plot(estimated_residual_multi, label='Residuals')\n",
    "axes[3].legend(loc='upper left');"
   ]
  },
  {
   "cell_type": "markdown",
   "metadata": {},
   "source": [
    "#### Dataset_B Plot -- additive"
   ]
  },
  {
   "cell_type": "code",
   "execution_count": null,
   "metadata": {},
   "outputs": [],
   "source": [
    "fig, axes = plt.subplots(4, 1, sharex=True, sharey=False)\n",
    "fig.set_figheight(10)\n",
    "fig.set_figwidth(15)\n",
    "\n",
    "axes[0].plot(dataset_B, label='Original')\n",
    "axes[0].legend(loc='upper left');\n",
    "\n",
    "axes[1].plot(estimated_trend_add, label='Trend')\n",
    "axes[1].legend(loc='upper left');\n",
    "\n",
    "axes[2].plot(estimated_seasonal_add, label='Seasonality')\n",
    "axes[2].legend(loc='upper left');\n",
    "\n",
    "axes[3].plot(estimated_residual_add, label='Residuals')\n",
    "axes[3].legend(loc='upper left');\n",
    "### END BEGIN SOLUTION"
   ]
  },
  {
   "cell_type": "markdown",
   "metadata": {},
   "source": [
    "---\n",
    "# Summary\n",
    "\n",
    "In this lesson you should have gained: \n",
    "1. A practical understanding of the three components of time series data \n",
    "2. A better understanding of additive and multiplicative models\n",
    "3. A simple way to decompose time series data \n"
   ]
  },
  {
   "cell_type": "markdown",
   "metadata": {},
   "source": [
    "---\n",
    "### Machine Learning Foundation (C) 2020 IBM Corporation"
   ]
  }
 ],
 "metadata": {
  "kernelspec": {
   "display_name": "Python 3 (ipykernel)",
   "language": "python",
   "name": "python3"
  },
  "language_info": {
   "codemirror_mode": {
    "name": "ipython",
    "version": 3
   },
   "file_extension": ".py",
   "mimetype": "text/x-python",
   "name": "python",
   "nbconvert_exporter": "python",
   "pygments_lexer": "ipython3",
   "version": "3.8.12"
  }
 },
 "nbformat": 4,
 "nbformat_minor": 4
}
