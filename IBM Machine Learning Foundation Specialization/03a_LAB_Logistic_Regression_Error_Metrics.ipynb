{
 "cells": [
  {
   "cell_type": "markdown",
   "metadata": {
    "run_control": {
     "marked": true
    }
   },
   "source": [
    "# Machine Learning Foundation\n",
    "\n",
    "## Course 3, Part a: Logistic Regression LAB"
   ]
  },
  {
   "cell_type": "markdown",
   "metadata": {
    "run_control": {
     "marked": true
    }
   },
   "source": [
    "## Introduction\n",
    "\n",
    "We will be using the [Human Activity Recognition with Smartphones](https://archive.ics.uci.edu/ml/datasets/Human+Activity+Recognition+Using+Smartphones) database, which was built from the recordings of study participants performing activities of daily living (ADL) while carrying a smartphone with an embedded inertial sensors. The objective is to classify activities into one of the six activities (walking, walking upstairs, walking downstairs, sitting, standing, and laying) performed.\n",
    "\n",
    "For each record in the dataset it is provided: \n",
    "\n",
    "- Triaxial acceleration from the accelerometer (total acceleration) and the estimated body acceleration. \n",
    "- Triaxial Angular velocity from the gyroscope. \n",
    "- A 561-feature vector with time and frequency domain variables. \n",
    "- Its activity label. \n",
    "\n",
    "More information about the features is available on the website above."
   ]
  },
  {
   "cell_type": "code",
   "execution_count": 1,
   "metadata": {
    "run_control": {
     "marked": true
    }
   },
   "outputs": [],
   "source": [
    "import os, seaborn as sns, pandas as pd, numpy as np\n",
    "#os.chdir('data')\n",
    "#from colorsetup import colors, palette\n",
    "palette=sns.color_palette()\n",
    "sns.set_palette(palette)"
   ]
  },
  {
   "cell_type": "markdown",
   "metadata": {
    "run_control": {
     "marked": true
    }
   },
   "source": [
    "## Question 1\n",
    "\n",
    "Import the data and do the following:\n",
    "\n",
    "* Examine the data types--there are many columns, so it might be wise to use value counts\n",
    "* Determine if the floating point values need to be scaled\n",
    "* Determine the breakdown of each activity\n",
    "* Encode the activity label as an integer"
   ]
  },
  {
   "cell_type": "code",
   "execution_count": 2,
   "metadata": {
    "jupyter": {
     "outputs_hidden": false
    },
    "run_control": {
     "marked": true
    }
   },
   "outputs": [],
   "source": [
    "### BEGIN SOLUTION\n",
    "filepath = 'data/Human_Activity_Recognition_Using_Smartphones_Data.csv'\n",
    "data = pd.read_csv(filepath, sep=',')"
   ]
  },
  {
   "cell_type": "markdown",
   "metadata": {
    "run_control": {
     "marked": true
    }
   },
   "source": [
    "The data columns are all floats except for the activity label."
   ]
  },
  {
   "cell_type": "code",
   "execution_count": 3,
   "metadata": {},
   "outputs": [
    {
     "data": {
      "text/plain": [
       "tBodyAcc-mean()-X                       float64\n",
       "tBodyAcc-mean()-Y                       float64\n",
       "tBodyAcc-mean()-Z                       float64\n",
       "tBodyAcc-std()-X                        float64\n",
       "tBodyAcc-std()-Y                        float64\n",
       "                                         ...   \n",
       "angle(tBodyGyroJerkMean,gravityMean)    float64\n",
       "angle(X,gravityMean)                    float64\n",
       "angle(Y,gravityMean)                    float64\n",
       "angle(Z,gravityMean)                    float64\n",
       "Activity                                 object\n",
       "Length: 562, dtype: object"
      ]
     },
     "execution_count": 3,
     "metadata": {},
     "output_type": "execute_result"
    }
   ],
   "source": [
    "data.dtypes"
   ]
  },
  {
   "cell_type": "code",
   "execution_count": 4,
   "metadata": {
    "jupyter": {
     "outputs_hidden": false
    },
    "run_control": {
     "marked": true
    }
   },
   "outputs": [
    {
     "data": {
      "text/plain": [
       "float64    561\n",
       "object       1\n",
       "dtype: int64"
      ]
     },
     "execution_count": 4,
     "metadata": {},
     "output_type": "execute_result"
    }
   ],
   "source": [
    "data.dtypes.value_counts()"
   ]
  },
  {
   "cell_type": "code",
   "execution_count": 5,
   "metadata": {
    "jupyter": {
     "outputs_hidden": false
    },
    "run_control": {
     "marked": true
    }
   },
   "outputs": [
    {
     "data": {
      "text/plain": [
       "angle(tBodyGyroJerkMean,gravityMean)    float64\n",
       "angle(X,gravityMean)                    float64\n",
       "angle(Y,gravityMean)                    float64\n",
       "angle(Z,gravityMean)                    float64\n",
       "Activity                                 object\n",
       "dtype: object"
      ]
     },
     "execution_count": 5,
     "metadata": {},
     "output_type": "execute_result"
    }
   ],
   "source": [
    "data.dtypes.tail()"
   ]
  },
  {
   "cell_type": "markdown",
   "metadata": {
    "run_control": {
     "marked": true
    }
   },
   "source": [
    "The data are all scaled from -1 (minimum) to 1.0 (maximum)."
   ]
  },
  {
   "cell_type": "code",
   "execution_count": 6,
   "metadata": {
    "jupyter": {
     "outputs_hidden": false
    },
    "run_control": {
     "marked": true
    }
   },
   "outputs": [
    {
     "data": {
      "text/plain": [
       "-1.0    561\n",
       "dtype: int64"
      ]
     },
     "execution_count": 6,
     "metadata": {},
     "output_type": "execute_result"
    }
   ],
   "source": [
    "data.iloc[:, :-1].min().value_counts()"
   ]
  },
  {
   "cell_type": "code",
   "execution_count": 7,
   "metadata": {
    "jupyter": {
     "outputs_hidden": false
    },
    "run_control": {
     "marked": true
    }
   },
   "outputs": [
    {
     "data": {
      "text/plain": [
       "1.0    561\n",
       "dtype: int64"
      ]
     },
     "execution_count": 7,
     "metadata": {},
     "output_type": "execute_result"
    }
   ],
   "source": [
    "data.iloc[:, :-1].max().value_counts()"
   ]
  },
  {
   "cell_type": "markdown",
   "metadata": {},
   "source": [
    "Examine the breakdown of activities--they are relatively balanced."
   ]
  },
  {
   "cell_type": "code",
   "execution_count": 8,
   "metadata": {
    "jupyter": {
     "outputs_hidden": false
    }
   },
   "outputs": [
    {
     "data": {
      "text/plain": [
       "LAYING                1944\n",
       "STANDING              1906\n",
       "SITTING               1777\n",
       "WALKING               1722\n",
       "WALKING_UPSTAIRS      1544\n",
       "WALKING_DOWNSTAIRS    1406\n",
       "Name: Activity, dtype: int64"
      ]
     },
     "execution_count": 8,
     "metadata": {},
     "output_type": "execute_result"
    }
   ],
   "source": [
    "data.Activity.value_counts()"
   ]
  },
  {
   "cell_type": "code",
   "execution_count": 9,
   "metadata": {},
   "outputs": [
    {
     "data": {
      "text/html": [
       "<div>\n",
       "<style scoped>\n",
       "    .dataframe tbody tr th:only-of-type {\n",
       "        vertical-align: middle;\n",
       "    }\n",
       "\n",
       "    .dataframe tbody tr th {\n",
       "        vertical-align: top;\n",
       "    }\n",
       "\n",
       "    .dataframe thead th {\n",
       "        text-align: right;\n",
       "    }\n",
       "</style>\n",
       "<table border=\"1\" class=\"dataframe\">\n",
       "  <thead>\n",
       "    <tr style=\"text-align: right;\">\n",
       "      <th></th>\n",
       "      <th>0</th>\n",
       "      <th>1</th>\n",
       "      <th>2</th>\n",
       "      <th>3</th>\n",
       "      <th>4</th>\n",
       "    </tr>\n",
       "  </thead>\n",
       "  <tbody>\n",
       "    <tr>\n",
       "      <th>tBodyAcc-mean()-X</th>\n",
       "      <td>0.288585</td>\n",
       "      <td>0.278419</td>\n",
       "      <td>0.279653</td>\n",
       "      <td>0.279174</td>\n",
       "      <td>0.276629</td>\n",
       "    </tr>\n",
       "    <tr>\n",
       "      <th>tBodyAcc-mean()-Y</th>\n",
       "      <td>-0.020294</td>\n",
       "      <td>-0.016411</td>\n",
       "      <td>-0.019467</td>\n",
       "      <td>-0.026201</td>\n",
       "      <td>-0.01657</td>\n",
       "    </tr>\n",
       "    <tr>\n",
       "      <th>tBodyAcc-mean()-Z</th>\n",
       "      <td>-0.132905</td>\n",
       "      <td>-0.12352</td>\n",
       "      <td>-0.113462</td>\n",
       "      <td>-0.123283</td>\n",
       "      <td>-0.115362</td>\n",
       "    </tr>\n",
       "    <tr>\n",
       "      <th>tBodyAcc-std()-X</th>\n",
       "      <td>-0.995279</td>\n",
       "      <td>-0.998245</td>\n",
       "      <td>-0.99538</td>\n",
       "      <td>-0.996091</td>\n",
       "      <td>-0.998139</td>\n",
       "    </tr>\n",
       "    <tr>\n",
       "      <th>tBodyAcc-std()-Y</th>\n",
       "      <td>-0.983111</td>\n",
       "      <td>-0.9753</td>\n",
       "      <td>-0.967187</td>\n",
       "      <td>-0.983403</td>\n",
       "      <td>-0.980817</td>\n",
       "    </tr>\n",
       "    <tr>\n",
       "      <th>...</th>\n",
       "      <td>...</td>\n",
       "      <td>...</td>\n",
       "      <td>...</td>\n",
       "      <td>...</td>\n",
       "      <td>...</td>\n",
       "    </tr>\n",
       "    <tr>\n",
       "      <th>angle(tBodyGyroJerkMean,gravityMean)</th>\n",
       "      <td>-0.018446</td>\n",
       "      <td>0.703511</td>\n",
       "      <td>0.808529</td>\n",
       "      <td>-0.485366</td>\n",
       "      <td>-0.615971</td>\n",
       "    </tr>\n",
       "    <tr>\n",
       "      <th>angle(X,gravityMean)</th>\n",
       "      <td>-0.841247</td>\n",
       "      <td>-0.844788</td>\n",
       "      <td>-0.848933</td>\n",
       "      <td>-0.848649</td>\n",
       "      <td>-0.847865</td>\n",
       "    </tr>\n",
       "    <tr>\n",
       "      <th>angle(Y,gravityMean)</th>\n",
       "      <td>0.179941</td>\n",
       "      <td>0.180289</td>\n",
       "      <td>0.180637</td>\n",
       "      <td>0.181935</td>\n",
       "      <td>0.185151</td>\n",
       "    </tr>\n",
       "    <tr>\n",
       "      <th>angle(Z,gravityMean)</th>\n",
       "      <td>-0.058627</td>\n",
       "      <td>-0.054317</td>\n",
       "      <td>-0.049118</td>\n",
       "      <td>-0.047663</td>\n",
       "      <td>-0.043892</td>\n",
       "    </tr>\n",
       "    <tr>\n",
       "      <th>Activity</th>\n",
       "      <td>STANDING</td>\n",
       "      <td>STANDING</td>\n",
       "      <td>STANDING</td>\n",
       "      <td>STANDING</td>\n",
       "      <td>STANDING</td>\n",
       "    </tr>\n",
       "  </tbody>\n",
       "</table>\n",
       "<p>562 rows × 5 columns</p>\n",
       "</div>"
      ],
      "text/plain": [
       "                                             0         1         2         3  \\\n",
       "tBodyAcc-mean()-X                     0.288585  0.278419  0.279653  0.279174   \n",
       "tBodyAcc-mean()-Y                    -0.020294 -0.016411 -0.019467 -0.026201   \n",
       "tBodyAcc-mean()-Z                    -0.132905  -0.12352 -0.113462 -0.123283   \n",
       "tBodyAcc-std()-X                     -0.995279 -0.998245  -0.99538 -0.996091   \n",
       "tBodyAcc-std()-Y                     -0.983111   -0.9753 -0.967187 -0.983403   \n",
       "...                                        ...       ...       ...       ...   \n",
       "angle(tBodyGyroJerkMean,gravityMean) -0.018446  0.703511  0.808529 -0.485366   \n",
       "angle(X,gravityMean)                 -0.841247 -0.844788 -0.848933 -0.848649   \n",
       "angle(Y,gravityMean)                  0.179941  0.180289  0.180637  0.181935   \n",
       "angle(Z,gravityMean)                 -0.058627 -0.054317 -0.049118 -0.047663   \n",
       "Activity                              STANDING  STANDING  STANDING  STANDING   \n",
       "\n",
       "                                             4  \n",
       "tBodyAcc-mean()-X                     0.276629  \n",
       "tBodyAcc-mean()-Y                     -0.01657  \n",
       "tBodyAcc-mean()-Z                    -0.115362  \n",
       "tBodyAcc-std()-X                     -0.998139  \n",
       "tBodyAcc-std()-Y                     -0.980817  \n",
       "...                                        ...  \n",
       "angle(tBodyGyroJerkMean,gravityMean) -0.615971  \n",
       "angle(X,gravityMean)                 -0.847865  \n",
       "angle(Y,gravityMean)                  0.185151  \n",
       "angle(Z,gravityMean)                 -0.043892  \n",
       "Activity                              STANDING  \n",
       "\n",
       "[562 rows x 5 columns]"
      ]
     },
     "execution_count": 9,
     "metadata": {},
     "output_type": "execute_result"
    }
   ],
   "source": [
    "data.head().T"
   ]
  },
  {
   "cell_type": "markdown",
   "metadata": {},
   "source": [
    "Scikit learn classifiers won't accept a sparse matrix for the prediction column. Thus, either `LabelEncoder` needs to be used to convert the activity labels to integers, or if `DictVectorizer` is used, the resulting matrix must be converted to a non-sparse array.  \n",
    "Use `LabelEncoder` to fit_transform the \"Activity\" column, and look at 5 random values."
   ]
  },
  {
   "cell_type": "code",
   "execution_count": 10,
   "metadata": {
    "jupyter": {
     "outputs_hidden": false
    }
   },
   "outputs": [
    {
     "data": {
      "text/plain": [
       "5100    2\n",
       "6707    0\n",
       "8024    0\n",
       "9261    1\n",
       "4897    2\n",
       "Name: Activity, dtype: int32"
      ]
     },
     "execution_count": 10,
     "metadata": {},
     "output_type": "execute_result"
    }
   ],
   "source": [
    "from sklearn.preprocessing import LabelEncoder\n",
    "\n",
    "le = LabelEncoder()\n",
    "data['Activity'] = le.fit_transform(data.Activity)\n",
    "data['Activity'].sample(5)\n",
    "### END SOLUTION"
   ]
  },
  {
   "cell_type": "markdown",
   "metadata": {},
   "source": [
    "## Question 2\n",
    "\n",
    "* Calculate the correlations between the dependent variables.\n",
    "* Create a histogram of the correlation values\n",
    "* Identify those that are most correlated (either positively or negatively)."
   ]
  },
  {
   "cell_type": "code",
   "execution_count": 11,
   "metadata": {},
   "outputs": [
    {
     "data": {
      "text/html": [
       "<div>\n",
       "<style scoped>\n",
       "    .dataframe tbody tr th:only-of-type {\n",
       "        vertical-align: middle;\n",
       "    }\n",
       "\n",
       "    .dataframe tbody tr th {\n",
       "        vertical-align: top;\n",
       "    }\n",
       "\n",
       "    .dataframe thead th {\n",
       "        text-align: right;\n",
       "    }\n",
       "</style>\n",
       "<table border=\"1\" class=\"dataframe\">\n",
       "  <thead>\n",
       "    <tr style=\"text-align: right;\">\n",
       "      <th></th>\n",
       "      <th>tBodyAcc-mean()-X</th>\n",
       "      <th>tBodyAcc-mean()-Y</th>\n",
       "      <th>tBodyAcc-mean()-Z</th>\n",
       "      <th>tBodyAcc-std()-X</th>\n",
       "      <th>tBodyAcc-std()-Y</th>\n",
       "      <th>tBodyAcc-std()-Z</th>\n",
       "      <th>tBodyAcc-mad()-X</th>\n",
       "      <th>tBodyAcc-mad()-Y</th>\n",
       "      <th>tBodyAcc-mad()-Z</th>\n",
       "      <th>tBodyAcc-max()-X</th>\n",
       "      <th>...</th>\n",
       "      <th>fBodyBodyGyroJerkMag-meanFreq()</th>\n",
       "      <th>fBodyBodyGyroJerkMag-skewness()</th>\n",
       "      <th>fBodyBodyGyroJerkMag-kurtosis()</th>\n",
       "      <th>angle(tBodyAccMean,gravity)</th>\n",
       "      <th>angle(tBodyAccJerkMean),gravityMean)</th>\n",
       "      <th>angle(tBodyGyroMean,gravityMean)</th>\n",
       "      <th>angle(tBodyGyroJerkMean,gravityMean)</th>\n",
       "      <th>angle(X,gravityMean)</th>\n",
       "      <th>angle(Y,gravityMean)</th>\n",
       "      <th>angle(Z,gravityMean)</th>\n",
       "    </tr>\n",
       "  </thead>\n",
       "  <tbody>\n",
       "    <tr>\n",
       "      <th>tBodyAcc-mean()-X</th>\n",
       "      <td>1.000000</td>\n",
       "      <td>0.128037</td>\n",
       "      <td>-0.230302</td>\n",
       "      <td>0.004590</td>\n",
       "      <td>-0.016785</td>\n",
       "      <td>-0.036071</td>\n",
       "      <td>0.010303</td>\n",
       "      <td>-0.017488</td>\n",
       "      <td>-0.038805</td>\n",
       "      <td>0.046943</td>\n",
       "      <td>...</td>\n",
       "      <td>0.029901</td>\n",
       "      <td>-0.006179</td>\n",
       "      <td>-0.002255</td>\n",
       "      <td>-0.552989</td>\n",
       "      <td>0.015754</td>\n",
       "      <td>0.036047</td>\n",
       "      <td>0.034296</td>\n",
       "      <td>-0.041021</td>\n",
       "      <td>0.034053</td>\n",
       "      <td>0.030656</td>\n",
       "    </tr>\n",
       "    <tr>\n",
       "      <th>tBodyAcc-mean()-Y</th>\n",
       "      <td>0.128037</td>\n",
       "      <td>1.000000</td>\n",
       "      <td>-0.029882</td>\n",
       "      <td>-0.046352</td>\n",
       "      <td>-0.046996</td>\n",
       "      <td>-0.054153</td>\n",
       "      <td>-0.045247</td>\n",
       "      <td>-0.047673</td>\n",
       "      <td>-0.055524</td>\n",
       "      <td>-0.039445</td>\n",
       "      <td>...</td>\n",
       "      <td>-0.014402</td>\n",
       "      <td>-0.000649</td>\n",
       "      <td>-0.002842</td>\n",
       "      <td>0.077750</td>\n",
       "      <td>-0.027567</td>\n",
       "      <td>0.013241</td>\n",
       "      <td>0.077627</td>\n",
       "      <td>-0.007513</td>\n",
       "      <td>-0.005616</td>\n",
       "      <td>-0.016233</td>\n",
       "    </tr>\n",
       "    <tr>\n",
       "      <th>tBodyAcc-mean()-Z</th>\n",
       "      <td>-0.230302</td>\n",
       "      <td>-0.029882</td>\n",
       "      <td>1.000000</td>\n",
       "      <td>-0.024185</td>\n",
       "      <td>-0.023745</td>\n",
       "      <td>-0.015632</td>\n",
       "      <td>-0.022872</td>\n",
       "      <td>-0.022966</td>\n",
       "      <td>-0.009577</td>\n",
       "      <td>-0.040218</td>\n",
       "      <td>...</td>\n",
       "      <td>-0.015358</td>\n",
       "      <td>0.023050</td>\n",
       "      <td>0.023122</td>\n",
       "      <td>0.055020</td>\n",
       "      <td>-0.042083</td>\n",
       "      <td>-0.066233</td>\n",
       "      <td>-0.030748</td>\n",
       "      <td>0.003215</td>\n",
       "      <td>-0.012986</td>\n",
       "      <td>-0.028406</td>\n",
       "    </tr>\n",
       "    <tr>\n",
       "      <th>tBodyAcc-std()-X</th>\n",
       "      <td>0.004590</td>\n",
       "      <td>-0.046352</td>\n",
       "      <td>-0.024185</td>\n",
       "      <td>1.000000</td>\n",
       "      <td>0.922525</td>\n",
       "      <td>0.861910</td>\n",
       "      <td>0.998662</td>\n",
       "      <td>0.916087</td>\n",
       "      <td>0.856497</td>\n",
       "      <td>0.981226</td>\n",
       "      <td>...</td>\n",
       "      <td>-0.068807</td>\n",
       "      <td>0.165552</td>\n",
       "      <td>0.135171</td>\n",
       "      <td>-0.034334</td>\n",
       "      <td>-0.017096</td>\n",
       "      <td>0.027464</td>\n",
       "      <td>-0.027123</td>\n",
       "      <td>-0.374104</td>\n",
       "      <td>0.449425</td>\n",
       "      <td>0.393063</td>\n",
       "    </tr>\n",
       "    <tr>\n",
       "      <th>tBodyAcc-std()-Y</th>\n",
       "      <td>-0.016785</td>\n",
       "      <td>-0.046996</td>\n",
       "      <td>-0.023745</td>\n",
       "      <td>0.922525</td>\n",
       "      <td>1.000000</td>\n",
       "      <td>0.888259</td>\n",
       "      <td>0.918561</td>\n",
       "      <td>0.997510</td>\n",
       "      <td>0.887052</td>\n",
       "      <td>0.911137</td>\n",
       "      <td>...</td>\n",
       "      <td>-0.109941</td>\n",
       "      <td>0.220279</td>\n",
       "      <td>0.191164</td>\n",
       "      <td>-0.020806</td>\n",
       "      <td>-0.006605</td>\n",
       "      <td>0.001902</td>\n",
       "      <td>-0.015784</td>\n",
       "      <td>-0.381391</td>\n",
       "      <td>0.506106</td>\n",
       "      <td>0.425511</td>\n",
       "    </tr>\n",
       "    <tr>\n",
       "      <th>...</th>\n",
       "      <td>...</td>\n",
       "      <td>...</td>\n",
       "      <td>...</td>\n",
       "      <td>...</td>\n",
       "      <td>...</td>\n",
       "      <td>...</td>\n",
       "      <td>...</td>\n",
       "      <td>...</td>\n",
       "      <td>...</td>\n",
       "      <td>...</td>\n",
       "      <td>...</td>\n",
       "      <td>...</td>\n",
       "      <td>...</td>\n",
       "      <td>...</td>\n",
       "      <td>...</td>\n",
       "      <td>...</td>\n",
       "      <td>...</td>\n",
       "      <td>...</td>\n",
       "      <td>...</td>\n",
       "      <td>...</td>\n",
       "      <td>...</td>\n",
       "    </tr>\n",
       "    <tr>\n",
       "      <th>angle(tBodyGyroMean,gravityMean)</th>\n",
       "      <td>0.036047</td>\n",
       "      <td>0.013241</td>\n",
       "      <td>-0.066233</td>\n",
       "      <td>0.027464</td>\n",
       "      <td>0.001902</td>\n",
       "      <td>-0.004984</td>\n",
       "      <td>0.027729</td>\n",
       "      <td>-0.002924</td>\n",
       "      <td>-0.009873</td>\n",
       "      <td>0.033533</td>\n",
       "      <td>...</td>\n",
       "      <td>-0.029273</td>\n",
       "      <td>0.042123</td>\n",
       "      <td>0.035684</td>\n",
       "      <td>-0.013009</td>\n",
       "      <td>0.010679</td>\n",
       "      <td>1.000000</td>\n",
       "      <td>-0.112454</td>\n",
       "      <td>-0.007095</td>\n",
       "      <td>-0.006444</td>\n",
       "      <td>-0.015380</td>\n",
       "    </tr>\n",
       "    <tr>\n",
       "      <th>angle(tBodyGyroJerkMean,gravityMean)</th>\n",
       "      <td>0.034296</td>\n",
       "      <td>0.077627</td>\n",
       "      <td>-0.030748</td>\n",
       "      <td>-0.027123</td>\n",
       "      <td>-0.015784</td>\n",
       "      <td>-0.012196</td>\n",
       "      <td>-0.027097</td>\n",
       "      <td>-0.013411</td>\n",
       "      <td>-0.012800</td>\n",
       "      <td>-0.030908</td>\n",
       "      <td>...</td>\n",
       "      <td>-0.002618</td>\n",
       "      <td>-0.013065</td>\n",
       "      <td>-0.011829</td>\n",
       "      <td>-0.027478</td>\n",
       "      <td>0.023605</td>\n",
       "      <td>-0.112454</td>\n",
       "      <td>1.000000</td>\n",
       "      <td>0.024822</td>\n",
       "      <td>-0.004582</td>\n",
       "      <td>-0.012549</td>\n",
       "    </tr>\n",
       "    <tr>\n",
       "      <th>angle(X,gravityMean)</th>\n",
       "      <td>-0.041021</td>\n",
       "      <td>-0.007513</td>\n",
       "      <td>0.003215</td>\n",
       "      <td>-0.374104</td>\n",
       "      <td>-0.381391</td>\n",
       "      <td>-0.353271</td>\n",
       "      <td>-0.371168</td>\n",
       "      <td>-0.378013</td>\n",
       "      <td>-0.355836</td>\n",
       "      <td>-0.384244</td>\n",
       "      <td>...</td>\n",
       "      <td>0.087571</td>\n",
       "      <td>-0.085226</td>\n",
       "      <td>-0.081971</td>\n",
       "      <td>0.008050</td>\n",
       "      <td>0.017534</td>\n",
       "      <td>-0.007095</td>\n",
       "      <td>0.024822</td>\n",
       "      <td>1.000000</td>\n",
       "      <td>-0.748249</td>\n",
       "      <td>-0.635231</td>\n",
       "    </tr>\n",
       "    <tr>\n",
       "      <th>angle(Y,gravityMean)</th>\n",
       "      <td>0.034053</td>\n",
       "      <td>-0.005616</td>\n",
       "      <td>-0.012986</td>\n",
       "      <td>0.449425</td>\n",
       "      <td>0.506106</td>\n",
       "      <td>0.459092</td>\n",
       "      <td>0.444926</td>\n",
       "      <td>0.507947</td>\n",
       "      <td>0.460345</td>\n",
       "      <td>0.458832</td>\n",
       "      <td>...</td>\n",
       "      <td>-0.105752</td>\n",
       "      <td>0.087671</td>\n",
       "      <td>0.078010</td>\n",
       "      <td>0.003082</td>\n",
       "      <td>-0.007256</td>\n",
       "      <td>-0.006444</td>\n",
       "      <td>-0.004582</td>\n",
       "      <td>-0.748249</td>\n",
       "      <td>1.000000</td>\n",
       "      <td>0.545614</td>\n",
       "    </tr>\n",
       "    <tr>\n",
       "      <th>angle(Z,gravityMean)</th>\n",
       "      <td>0.030656</td>\n",
       "      <td>-0.016233</td>\n",
       "      <td>-0.028406</td>\n",
       "      <td>0.393063</td>\n",
       "      <td>0.425511</td>\n",
       "      <td>0.483424</td>\n",
       "      <td>0.389481</td>\n",
       "      <td>0.424479</td>\n",
       "      <td>0.480032</td>\n",
       "      <td>0.402873</td>\n",
       "      <td>...</td>\n",
       "      <td>-0.061105</td>\n",
       "      <td>0.058759</td>\n",
       "      <td>0.054008</td>\n",
       "      <td>-0.003242</td>\n",
       "      <td>-0.013130</td>\n",
       "      <td>-0.015380</td>\n",
       "      <td>-0.012549</td>\n",
       "      <td>-0.635231</td>\n",
       "      <td>0.545614</td>\n",
       "      <td>1.000000</td>\n",
       "    </tr>\n",
       "  </tbody>\n",
       "</table>\n",
       "<p>561 rows × 561 columns</p>\n",
       "</div>"
      ],
      "text/plain": [
       "                                      tBodyAcc-mean()-X  tBodyAcc-mean()-Y  \\\n",
       "tBodyAcc-mean()-X                              1.000000           0.128037   \n",
       "tBodyAcc-mean()-Y                              0.128037           1.000000   \n",
       "tBodyAcc-mean()-Z                             -0.230302          -0.029882   \n",
       "tBodyAcc-std()-X                               0.004590          -0.046352   \n",
       "tBodyAcc-std()-Y                              -0.016785          -0.046996   \n",
       "...                                                 ...                ...   \n",
       "angle(tBodyGyroMean,gravityMean)               0.036047           0.013241   \n",
       "angle(tBodyGyroJerkMean,gravityMean)           0.034296           0.077627   \n",
       "angle(X,gravityMean)                          -0.041021          -0.007513   \n",
       "angle(Y,gravityMean)                           0.034053          -0.005616   \n",
       "angle(Z,gravityMean)                           0.030656          -0.016233   \n",
       "\n",
       "                                      tBodyAcc-mean()-Z  tBodyAcc-std()-X  \\\n",
       "tBodyAcc-mean()-X                             -0.230302          0.004590   \n",
       "tBodyAcc-mean()-Y                             -0.029882         -0.046352   \n",
       "tBodyAcc-mean()-Z                              1.000000         -0.024185   \n",
       "tBodyAcc-std()-X                              -0.024185          1.000000   \n",
       "tBodyAcc-std()-Y                              -0.023745          0.922525   \n",
       "...                                                 ...               ...   \n",
       "angle(tBodyGyroMean,gravityMean)              -0.066233          0.027464   \n",
       "angle(tBodyGyroJerkMean,gravityMean)          -0.030748         -0.027123   \n",
       "angle(X,gravityMean)                           0.003215         -0.374104   \n",
       "angle(Y,gravityMean)                          -0.012986          0.449425   \n",
       "angle(Z,gravityMean)                          -0.028406          0.393063   \n",
       "\n",
       "                                      tBodyAcc-std()-Y  tBodyAcc-std()-Z  \\\n",
       "tBodyAcc-mean()-X                            -0.016785         -0.036071   \n",
       "tBodyAcc-mean()-Y                            -0.046996         -0.054153   \n",
       "tBodyAcc-mean()-Z                            -0.023745         -0.015632   \n",
       "tBodyAcc-std()-X                              0.922525          0.861910   \n",
       "tBodyAcc-std()-Y                              1.000000          0.888259   \n",
       "...                                                ...               ...   \n",
       "angle(tBodyGyroMean,gravityMean)              0.001902         -0.004984   \n",
       "angle(tBodyGyroJerkMean,gravityMean)         -0.015784         -0.012196   \n",
       "angle(X,gravityMean)                         -0.381391         -0.353271   \n",
       "angle(Y,gravityMean)                          0.506106          0.459092   \n",
       "angle(Z,gravityMean)                          0.425511          0.483424   \n",
       "\n",
       "                                      tBodyAcc-mad()-X  tBodyAcc-mad()-Y  \\\n",
       "tBodyAcc-mean()-X                             0.010303         -0.017488   \n",
       "tBodyAcc-mean()-Y                            -0.045247         -0.047673   \n",
       "tBodyAcc-mean()-Z                            -0.022872         -0.022966   \n",
       "tBodyAcc-std()-X                              0.998662          0.916087   \n",
       "tBodyAcc-std()-Y                              0.918561          0.997510   \n",
       "...                                                ...               ...   \n",
       "angle(tBodyGyroMean,gravityMean)              0.027729         -0.002924   \n",
       "angle(tBodyGyroJerkMean,gravityMean)         -0.027097         -0.013411   \n",
       "angle(X,gravityMean)                         -0.371168         -0.378013   \n",
       "angle(Y,gravityMean)                          0.444926          0.507947   \n",
       "angle(Z,gravityMean)                          0.389481          0.424479   \n",
       "\n",
       "                                      tBodyAcc-mad()-Z  tBodyAcc-max()-X  ...  \\\n",
       "tBodyAcc-mean()-X                            -0.038805          0.046943  ...   \n",
       "tBodyAcc-mean()-Y                            -0.055524         -0.039445  ...   \n",
       "tBodyAcc-mean()-Z                            -0.009577         -0.040218  ...   \n",
       "tBodyAcc-std()-X                              0.856497          0.981226  ...   \n",
       "tBodyAcc-std()-Y                              0.887052          0.911137  ...   \n",
       "...                                                ...               ...  ...   \n",
       "angle(tBodyGyroMean,gravityMean)             -0.009873          0.033533  ...   \n",
       "angle(tBodyGyroJerkMean,gravityMean)         -0.012800         -0.030908  ...   \n",
       "angle(X,gravityMean)                         -0.355836         -0.384244  ...   \n",
       "angle(Y,gravityMean)                          0.460345          0.458832  ...   \n",
       "angle(Z,gravityMean)                          0.480032          0.402873  ...   \n",
       "\n",
       "                                      fBodyBodyGyroJerkMag-meanFreq()  \\\n",
       "tBodyAcc-mean()-X                                            0.029901   \n",
       "tBodyAcc-mean()-Y                                           -0.014402   \n",
       "tBodyAcc-mean()-Z                                           -0.015358   \n",
       "tBodyAcc-std()-X                                            -0.068807   \n",
       "tBodyAcc-std()-Y                                            -0.109941   \n",
       "...                                                               ...   \n",
       "angle(tBodyGyroMean,gravityMean)                            -0.029273   \n",
       "angle(tBodyGyroJerkMean,gravityMean)                        -0.002618   \n",
       "angle(X,gravityMean)                                         0.087571   \n",
       "angle(Y,gravityMean)                                        -0.105752   \n",
       "angle(Z,gravityMean)                                        -0.061105   \n",
       "\n",
       "                                      fBodyBodyGyroJerkMag-skewness()  \\\n",
       "tBodyAcc-mean()-X                                           -0.006179   \n",
       "tBodyAcc-mean()-Y                                           -0.000649   \n",
       "tBodyAcc-mean()-Z                                            0.023050   \n",
       "tBodyAcc-std()-X                                             0.165552   \n",
       "tBodyAcc-std()-Y                                             0.220279   \n",
       "...                                                               ...   \n",
       "angle(tBodyGyroMean,gravityMean)                             0.042123   \n",
       "angle(tBodyGyroJerkMean,gravityMean)                        -0.013065   \n",
       "angle(X,gravityMean)                                        -0.085226   \n",
       "angle(Y,gravityMean)                                         0.087671   \n",
       "angle(Z,gravityMean)                                         0.058759   \n",
       "\n",
       "                                      fBodyBodyGyroJerkMag-kurtosis()  \\\n",
       "tBodyAcc-mean()-X                                           -0.002255   \n",
       "tBodyAcc-mean()-Y                                           -0.002842   \n",
       "tBodyAcc-mean()-Z                                            0.023122   \n",
       "tBodyAcc-std()-X                                             0.135171   \n",
       "tBodyAcc-std()-Y                                             0.191164   \n",
       "...                                                               ...   \n",
       "angle(tBodyGyroMean,gravityMean)                             0.035684   \n",
       "angle(tBodyGyroJerkMean,gravityMean)                        -0.011829   \n",
       "angle(X,gravityMean)                                        -0.081971   \n",
       "angle(Y,gravityMean)                                         0.078010   \n",
       "angle(Z,gravityMean)                                         0.054008   \n",
       "\n",
       "                                      angle(tBodyAccMean,gravity)  \\\n",
       "tBodyAcc-mean()-X                                       -0.552989   \n",
       "tBodyAcc-mean()-Y                                        0.077750   \n",
       "tBodyAcc-mean()-Z                                        0.055020   \n",
       "tBodyAcc-std()-X                                        -0.034334   \n",
       "tBodyAcc-std()-Y                                        -0.020806   \n",
       "...                                                           ...   \n",
       "angle(tBodyGyroMean,gravityMean)                        -0.013009   \n",
       "angle(tBodyGyroJerkMean,gravityMean)                    -0.027478   \n",
       "angle(X,gravityMean)                                     0.008050   \n",
       "angle(Y,gravityMean)                                     0.003082   \n",
       "angle(Z,gravityMean)                                    -0.003242   \n",
       "\n",
       "                                      angle(tBodyAccJerkMean),gravityMean)  \\\n",
       "tBodyAcc-mean()-X                                                 0.015754   \n",
       "tBodyAcc-mean()-Y                                                -0.027567   \n",
       "tBodyAcc-mean()-Z                                                -0.042083   \n",
       "tBodyAcc-std()-X                                                 -0.017096   \n",
       "tBodyAcc-std()-Y                                                 -0.006605   \n",
       "...                                                                    ...   \n",
       "angle(tBodyGyroMean,gravityMean)                                  0.010679   \n",
       "angle(tBodyGyroJerkMean,gravityMean)                              0.023605   \n",
       "angle(X,gravityMean)                                              0.017534   \n",
       "angle(Y,gravityMean)                                             -0.007256   \n",
       "angle(Z,gravityMean)                                             -0.013130   \n",
       "\n",
       "                                      angle(tBodyGyroMean,gravityMean)  \\\n",
       "tBodyAcc-mean()-X                                             0.036047   \n",
       "tBodyAcc-mean()-Y                                             0.013241   \n",
       "tBodyAcc-mean()-Z                                            -0.066233   \n",
       "tBodyAcc-std()-X                                              0.027464   \n",
       "tBodyAcc-std()-Y                                              0.001902   \n",
       "...                                                                ...   \n",
       "angle(tBodyGyroMean,gravityMean)                              1.000000   \n",
       "angle(tBodyGyroJerkMean,gravityMean)                         -0.112454   \n",
       "angle(X,gravityMean)                                         -0.007095   \n",
       "angle(Y,gravityMean)                                         -0.006444   \n",
       "angle(Z,gravityMean)                                         -0.015380   \n",
       "\n",
       "                                      angle(tBodyGyroJerkMean,gravityMean)  \\\n",
       "tBodyAcc-mean()-X                                                 0.034296   \n",
       "tBodyAcc-mean()-Y                                                 0.077627   \n",
       "tBodyAcc-mean()-Z                                                -0.030748   \n",
       "tBodyAcc-std()-X                                                 -0.027123   \n",
       "tBodyAcc-std()-Y                                                 -0.015784   \n",
       "...                                                                    ...   \n",
       "angle(tBodyGyroMean,gravityMean)                                 -0.112454   \n",
       "angle(tBodyGyroJerkMean,gravityMean)                              1.000000   \n",
       "angle(X,gravityMean)                                              0.024822   \n",
       "angle(Y,gravityMean)                                             -0.004582   \n",
       "angle(Z,gravityMean)                                             -0.012549   \n",
       "\n",
       "                                      angle(X,gravityMean)  \\\n",
       "tBodyAcc-mean()-X                                -0.041021   \n",
       "tBodyAcc-mean()-Y                                -0.007513   \n",
       "tBodyAcc-mean()-Z                                 0.003215   \n",
       "tBodyAcc-std()-X                                 -0.374104   \n",
       "tBodyAcc-std()-Y                                 -0.381391   \n",
       "...                                                    ...   \n",
       "angle(tBodyGyroMean,gravityMean)                 -0.007095   \n",
       "angle(tBodyGyroJerkMean,gravityMean)              0.024822   \n",
       "angle(X,gravityMean)                              1.000000   \n",
       "angle(Y,gravityMean)                             -0.748249   \n",
       "angle(Z,gravityMean)                             -0.635231   \n",
       "\n",
       "                                      angle(Y,gravityMean)  \\\n",
       "tBodyAcc-mean()-X                                 0.034053   \n",
       "tBodyAcc-mean()-Y                                -0.005616   \n",
       "tBodyAcc-mean()-Z                                -0.012986   \n",
       "tBodyAcc-std()-X                                  0.449425   \n",
       "tBodyAcc-std()-Y                                  0.506106   \n",
       "...                                                    ...   \n",
       "angle(tBodyGyroMean,gravityMean)                 -0.006444   \n",
       "angle(tBodyGyroJerkMean,gravityMean)             -0.004582   \n",
       "angle(X,gravityMean)                             -0.748249   \n",
       "angle(Y,gravityMean)                              1.000000   \n",
       "angle(Z,gravityMean)                              0.545614   \n",
       "\n",
       "                                      angle(Z,gravityMean)  \n",
       "tBodyAcc-mean()-X                                 0.030656  \n",
       "tBodyAcc-mean()-Y                                -0.016233  \n",
       "tBodyAcc-mean()-Z                                -0.028406  \n",
       "tBodyAcc-std()-X                                  0.393063  \n",
       "tBodyAcc-std()-Y                                  0.425511  \n",
       "...                                                    ...  \n",
       "angle(tBodyGyroMean,gravityMean)                 -0.015380  \n",
       "angle(tBodyGyroJerkMean,gravityMean)             -0.012549  \n",
       "angle(X,gravityMean)                             -0.635231  \n",
       "angle(Y,gravityMean)                              0.545614  \n",
       "angle(Z,gravityMean)                              1.000000  \n",
       "\n",
       "[561 rows x 561 columns]"
      ]
     },
     "execution_count": 11,
     "metadata": {},
     "output_type": "execute_result"
    }
   ],
   "source": [
    "### BEGIN SOLUTION\n",
    "# Calculate the correlation values\n",
    "feature_cols = data.columns[:-1]\n",
    "corr_values = data[feature_cols].corr()\n",
    "corr_values"
   ]
  },
  {
   "cell_type": "code",
   "execution_count": 12,
   "metadata": {},
   "outputs": [
    {
     "data": {
      "text/html": [
       "<div>\n",
       "<style scoped>\n",
       "    .dataframe tbody tr th:only-of-type {\n",
       "        vertical-align: middle;\n",
       "    }\n",
       "\n",
       "    .dataframe tbody tr th {\n",
       "        vertical-align: top;\n",
       "    }\n",
       "\n",
       "    .dataframe thead th {\n",
       "        text-align: right;\n",
       "    }\n",
       "</style>\n",
       "<table border=\"1\" class=\"dataframe\">\n",
       "  <thead>\n",
       "    <tr style=\"text-align: right;\">\n",
       "      <th></th>\n",
       "      <th>tBodyAcc-mean()-X</th>\n",
       "      <th>tBodyAcc-mean()-Y</th>\n",
       "      <th>tBodyAcc-mean()-Z</th>\n",
       "      <th>tBodyAcc-std()-X</th>\n",
       "      <th>tBodyAcc-std()-Y</th>\n",
       "      <th>tBodyAcc-std()-Z</th>\n",
       "      <th>tBodyAcc-mad()-X</th>\n",
       "      <th>tBodyAcc-mad()-Y</th>\n",
       "      <th>tBodyAcc-mad()-Z</th>\n",
       "      <th>tBodyAcc-max()-X</th>\n",
       "      <th>...</th>\n",
       "      <th>fBodyBodyGyroJerkMag-meanFreq()</th>\n",
       "      <th>fBodyBodyGyroJerkMag-skewness()</th>\n",
       "      <th>fBodyBodyGyroJerkMag-kurtosis()</th>\n",
       "      <th>angle(tBodyAccMean,gravity)</th>\n",
       "      <th>angle(tBodyAccJerkMean),gravityMean)</th>\n",
       "      <th>angle(tBodyGyroMean,gravityMean)</th>\n",
       "      <th>angle(tBodyGyroJerkMean,gravityMean)</th>\n",
       "      <th>angle(X,gravityMean)</th>\n",
       "      <th>angle(Y,gravityMean)</th>\n",
       "      <th>angle(Z,gravityMean)</th>\n",
       "    </tr>\n",
       "  </thead>\n",
       "  <tbody>\n",
       "    <tr>\n",
       "      <th>tBodyAcc-mean()-X</th>\n",
       "      <td>NaN</td>\n",
       "      <td>0.128037</td>\n",
       "      <td>-0.230302</td>\n",
       "      <td>0.004590</td>\n",
       "      <td>-0.016785</td>\n",
       "      <td>-0.036071</td>\n",
       "      <td>0.010303</td>\n",
       "      <td>-0.017488</td>\n",
       "      <td>-0.038805</td>\n",
       "      <td>0.046943</td>\n",
       "      <td>...</td>\n",
       "      <td>0.029901</td>\n",
       "      <td>-0.006179</td>\n",
       "      <td>-0.002255</td>\n",
       "      <td>-0.552989</td>\n",
       "      <td>0.015754</td>\n",
       "      <td>0.036047</td>\n",
       "      <td>0.034296</td>\n",
       "      <td>-0.041021</td>\n",
       "      <td>0.034053</td>\n",
       "      <td>0.030656</td>\n",
       "    </tr>\n",
       "    <tr>\n",
       "      <th>tBodyAcc-mean()-Y</th>\n",
       "      <td>NaN</td>\n",
       "      <td>NaN</td>\n",
       "      <td>-0.029882</td>\n",
       "      <td>-0.046352</td>\n",
       "      <td>-0.046996</td>\n",
       "      <td>-0.054153</td>\n",
       "      <td>-0.045247</td>\n",
       "      <td>-0.047673</td>\n",
       "      <td>-0.055524</td>\n",
       "      <td>-0.039445</td>\n",
       "      <td>...</td>\n",
       "      <td>-0.014402</td>\n",
       "      <td>-0.000649</td>\n",
       "      <td>-0.002842</td>\n",
       "      <td>0.077750</td>\n",
       "      <td>-0.027567</td>\n",
       "      <td>0.013241</td>\n",
       "      <td>0.077627</td>\n",
       "      <td>-0.007513</td>\n",
       "      <td>-0.005616</td>\n",
       "      <td>-0.016233</td>\n",
       "    </tr>\n",
       "    <tr>\n",
       "      <th>tBodyAcc-mean()-Z</th>\n",
       "      <td>NaN</td>\n",
       "      <td>NaN</td>\n",
       "      <td>NaN</td>\n",
       "      <td>-0.024185</td>\n",
       "      <td>-0.023745</td>\n",
       "      <td>-0.015632</td>\n",
       "      <td>-0.022872</td>\n",
       "      <td>-0.022966</td>\n",
       "      <td>-0.009577</td>\n",
       "      <td>-0.040218</td>\n",
       "      <td>...</td>\n",
       "      <td>-0.015358</td>\n",
       "      <td>0.023050</td>\n",
       "      <td>0.023122</td>\n",
       "      <td>0.055020</td>\n",
       "      <td>-0.042083</td>\n",
       "      <td>-0.066233</td>\n",
       "      <td>-0.030748</td>\n",
       "      <td>0.003215</td>\n",
       "      <td>-0.012986</td>\n",
       "      <td>-0.028406</td>\n",
       "    </tr>\n",
       "    <tr>\n",
       "      <th>tBodyAcc-std()-X</th>\n",
       "      <td>NaN</td>\n",
       "      <td>NaN</td>\n",
       "      <td>NaN</td>\n",
       "      <td>NaN</td>\n",
       "      <td>0.922525</td>\n",
       "      <td>0.861910</td>\n",
       "      <td>0.998662</td>\n",
       "      <td>0.916087</td>\n",
       "      <td>0.856497</td>\n",
       "      <td>0.981226</td>\n",
       "      <td>...</td>\n",
       "      <td>-0.068807</td>\n",
       "      <td>0.165552</td>\n",
       "      <td>0.135171</td>\n",
       "      <td>-0.034334</td>\n",
       "      <td>-0.017096</td>\n",
       "      <td>0.027464</td>\n",
       "      <td>-0.027123</td>\n",
       "      <td>-0.374104</td>\n",
       "      <td>0.449425</td>\n",
       "      <td>0.393063</td>\n",
       "    </tr>\n",
       "    <tr>\n",
       "      <th>tBodyAcc-std()-Y</th>\n",
       "      <td>NaN</td>\n",
       "      <td>NaN</td>\n",
       "      <td>NaN</td>\n",
       "      <td>NaN</td>\n",
       "      <td>NaN</td>\n",
       "      <td>0.888259</td>\n",
       "      <td>0.918561</td>\n",
       "      <td>0.997510</td>\n",
       "      <td>0.887052</td>\n",
       "      <td>0.911137</td>\n",
       "      <td>...</td>\n",
       "      <td>-0.109941</td>\n",
       "      <td>0.220279</td>\n",
       "      <td>0.191164</td>\n",
       "      <td>-0.020806</td>\n",
       "      <td>-0.006605</td>\n",
       "      <td>0.001902</td>\n",
       "      <td>-0.015784</td>\n",
       "      <td>-0.381391</td>\n",
       "      <td>0.506106</td>\n",
       "      <td>0.425511</td>\n",
       "    </tr>\n",
       "    <tr>\n",
       "      <th>...</th>\n",
       "      <td>...</td>\n",
       "      <td>...</td>\n",
       "      <td>...</td>\n",
       "      <td>...</td>\n",
       "      <td>...</td>\n",
       "      <td>...</td>\n",
       "      <td>...</td>\n",
       "      <td>...</td>\n",
       "      <td>...</td>\n",
       "      <td>...</td>\n",
       "      <td>...</td>\n",
       "      <td>...</td>\n",
       "      <td>...</td>\n",
       "      <td>...</td>\n",
       "      <td>...</td>\n",
       "      <td>...</td>\n",
       "      <td>...</td>\n",
       "      <td>...</td>\n",
       "      <td>...</td>\n",
       "      <td>...</td>\n",
       "      <td>...</td>\n",
       "    </tr>\n",
       "    <tr>\n",
       "      <th>angle(tBodyGyroMean,gravityMean)</th>\n",
       "      <td>NaN</td>\n",
       "      <td>NaN</td>\n",
       "      <td>NaN</td>\n",
       "      <td>NaN</td>\n",
       "      <td>NaN</td>\n",
       "      <td>NaN</td>\n",
       "      <td>NaN</td>\n",
       "      <td>NaN</td>\n",
       "      <td>NaN</td>\n",
       "      <td>NaN</td>\n",
       "      <td>...</td>\n",
       "      <td>NaN</td>\n",
       "      <td>NaN</td>\n",
       "      <td>NaN</td>\n",
       "      <td>NaN</td>\n",
       "      <td>NaN</td>\n",
       "      <td>NaN</td>\n",
       "      <td>-0.112454</td>\n",
       "      <td>-0.007095</td>\n",
       "      <td>-0.006444</td>\n",
       "      <td>-0.015380</td>\n",
       "    </tr>\n",
       "    <tr>\n",
       "      <th>angle(tBodyGyroJerkMean,gravityMean)</th>\n",
       "      <td>NaN</td>\n",
       "      <td>NaN</td>\n",
       "      <td>NaN</td>\n",
       "      <td>NaN</td>\n",
       "      <td>NaN</td>\n",
       "      <td>NaN</td>\n",
       "      <td>NaN</td>\n",
       "      <td>NaN</td>\n",
       "      <td>NaN</td>\n",
       "      <td>NaN</td>\n",
       "      <td>...</td>\n",
       "      <td>NaN</td>\n",
       "      <td>NaN</td>\n",
       "      <td>NaN</td>\n",
       "      <td>NaN</td>\n",
       "      <td>NaN</td>\n",
       "      <td>NaN</td>\n",
       "      <td>NaN</td>\n",
       "      <td>0.024822</td>\n",
       "      <td>-0.004582</td>\n",
       "      <td>-0.012549</td>\n",
       "    </tr>\n",
       "    <tr>\n",
       "      <th>angle(X,gravityMean)</th>\n",
       "      <td>NaN</td>\n",
       "      <td>NaN</td>\n",
       "      <td>NaN</td>\n",
       "      <td>NaN</td>\n",
       "      <td>NaN</td>\n",
       "      <td>NaN</td>\n",
       "      <td>NaN</td>\n",
       "      <td>NaN</td>\n",
       "      <td>NaN</td>\n",
       "      <td>NaN</td>\n",
       "      <td>...</td>\n",
       "      <td>NaN</td>\n",
       "      <td>NaN</td>\n",
       "      <td>NaN</td>\n",
       "      <td>NaN</td>\n",
       "      <td>NaN</td>\n",
       "      <td>NaN</td>\n",
       "      <td>NaN</td>\n",
       "      <td>NaN</td>\n",
       "      <td>-0.748249</td>\n",
       "      <td>-0.635231</td>\n",
       "    </tr>\n",
       "    <tr>\n",
       "      <th>angle(Y,gravityMean)</th>\n",
       "      <td>NaN</td>\n",
       "      <td>NaN</td>\n",
       "      <td>NaN</td>\n",
       "      <td>NaN</td>\n",
       "      <td>NaN</td>\n",
       "      <td>NaN</td>\n",
       "      <td>NaN</td>\n",
       "      <td>NaN</td>\n",
       "      <td>NaN</td>\n",
       "      <td>NaN</td>\n",
       "      <td>...</td>\n",
       "      <td>NaN</td>\n",
       "      <td>NaN</td>\n",
       "      <td>NaN</td>\n",
       "      <td>NaN</td>\n",
       "      <td>NaN</td>\n",
       "      <td>NaN</td>\n",
       "      <td>NaN</td>\n",
       "      <td>NaN</td>\n",
       "      <td>NaN</td>\n",
       "      <td>0.545614</td>\n",
       "    </tr>\n",
       "    <tr>\n",
       "      <th>angle(Z,gravityMean)</th>\n",
       "      <td>NaN</td>\n",
       "      <td>NaN</td>\n",
       "      <td>NaN</td>\n",
       "      <td>NaN</td>\n",
       "      <td>NaN</td>\n",
       "      <td>NaN</td>\n",
       "      <td>NaN</td>\n",
       "      <td>NaN</td>\n",
       "      <td>NaN</td>\n",
       "      <td>NaN</td>\n",
       "      <td>...</td>\n",
       "      <td>NaN</td>\n",
       "      <td>NaN</td>\n",
       "      <td>NaN</td>\n",
       "      <td>NaN</td>\n",
       "      <td>NaN</td>\n",
       "      <td>NaN</td>\n",
       "      <td>NaN</td>\n",
       "      <td>NaN</td>\n",
       "      <td>NaN</td>\n",
       "      <td>NaN</td>\n",
       "    </tr>\n",
       "  </tbody>\n",
       "</table>\n",
       "<p>561 rows × 561 columns</p>\n",
       "</div>"
      ],
      "text/plain": [
       "                                      tBodyAcc-mean()-X  tBodyAcc-mean()-Y  \\\n",
       "tBodyAcc-mean()-X                                   NaN           0.128037   \n",
       "tBodyAcc-mean()-Y                                   NaN                NaN   \n",
       "tBodyAcc-mean()-Z                                   NaN                NaN   \n",
       "tBodyAcc-std()-X                                    NaN                NaN   \n",
       "tBodyAcc-std()-Y                                    NaN                NaN   \n",
       "...                                                 ...                ...   \n",
       "angle(tBodyGyroMean,gravityMean)                    NaN                NaN   \n",
       "angle(tBodyGyroJerkMean,gravityMean)                NaN                NaN   \n",
       "angle(X,gravityMean)                                NaN                NaN   \n",
       "angle(Y,gravityMean)                                NaN                NaN   \n",
       "angle(Z,gravityMean)                                NaN                NaN   \n",
       "\n",
       "                                      tBodyAcc-mean()-Z  tBodyAcc-std()-X  \\\n",
       "tBodyAcc-mean()-X                             -0.230302          0.004590   \n",
       "tBodyAcc-mean()-Y                             -0.029882         -0.046352   \n",
       "tBodyAcc-mean()-Z                                   NaN         -0.024185   \n",
       "tBodyAcc-std()-X                                    NaN               NaN   \n",
       "tBodyAcc-std()-Y                                    NaN               NaN   \n",
       "...                                                 ...               ...   \n",
       "angle(tBodyGyroMean,gravityMean)                    NaN               NaN   \n",
       "angle(tBodyGyroJerkMean,gravityMean)                NaN               NaN   \n",
       "angle(X,gravityMean)                                NaN               NaN   \n",
       "angle(Y,gravityMean)                                NaN               NaN   \n",
       "angle(Z,gravityMean)                                NaN               NaN   \n",
       "\n",
       "                                      tBodyAcc-std()-Y  tBodyAcc-std()-Z  \\\n",
       "tBodyAcc-mean()-X                            -0.016785         -0.036071   \n",
       "tBodyAcc-mean()-Y                            -0.046996         -0.054153   \n",
       "tBodyAcc-mean()-Z                            -0.023745         -0.015632   \n",
       "tBodyAcc-std()-X                              0.922525          0.861910   \n",
       "tBodyAcc-std()-Y                                   NaN          0.888259   \n",
       "...                                                ...               ...   \n",
       "angle(tBodyGyroMean,gravityMean)                   NaN               NaN   \n",
       "angle(tBodyGyroJerkMean,gravityMean)               NaN               NaN   \n",
       "angle(X,gravityMean)                               NaN               NaN   \n",
       "angle(Y,gravityMean)                               NaN               NaN   \n",
       "angle(Z,gravityMean)                               NaN               NaN   \n",
       "\n",
       "                                      tBodyAcc-mad()-X  tBodyAcc-mad()-Y  \\\n",
       "tBodyAcc-mean()-X                             0.010303         -0.017488   \n",
       "tBodyAcc-mean()-Y                            -0.045247         -0.047673   \n",
       "tBodyAcc-mean()-Z                            -0.022872         -0.022966   \n",
       "tBodyAcc-std()-X                              0.998662          0.916087   \n",
       "tBodyAcc-std()-Y                              0.918561          0.997510   \n",
       "...                                                ...               ...   \n",
       "angle(tBodyGyroMean,gravityMean)                   NaN               NaN   \n",
       "angle(tBodyGyroJerkMean,gravityMean)               NaN               NaN   \n",
       "angle(X,gravityMean)                               NaN               NaN   \n",
       "angle(Y,gravityMean)                               NaN               NaN   \n",
       "angle(Z,gravityMean)                               NaN               NaN   \n",
       "\n",
       "                                      tBodyAcc-mad()-Z  tBodyAcc-max()-X  ...  \\\n",
       "tBodyAcc-mean()-X                            -0.038805          0.046943  ...   \n",
       "tBodyAcc-mean()-Y                            -0.055524         -0.039445  ...   \n",
       "tBodyAcc-mean()-Z                            -0.009577         -0.040218  ...   \n",
       "tBodyAcc-std()-X                              0.856497          0.981226  ...   \n",
       "tBodyAcc-std()-Y                              0.887052          0.911137  ...   \n",
       "...                                                ...               ...  ...   \n",
       "angle(tBodyGyroMean,gravityMean)                   NaN               NaN  ...   \n",
       "angle(tBodyGyroJerkMean,gravityMean)               NaN               NaN  ...   \n",
       "angle(X,gravityMean)                               NaN               NaN  ...   \n",
       "angle(Y,gravityMean)                               NaN               NaN  ...   \n",
       "angle(Z,gravityMean)                               NaN               NaN  ...   \n",
       "\n",
       "                                      fBodyBodyGyroJerkMag-meanFreq()  \\\n",
       "tBodyAcc-mean()-X                                            0.029901   \n",
       "tBodyAcc-mean()-Y                                           -0.014402   \n",
       "tBodyAcc-mean()-Z                                           -0.015358   \n",
       "tBodyAcc-std()-X                                            -0.068807   \n",
       "tBodyAcc-std()-Y                                            -0.109941   \n",
       "...                                                               ...   \n",
       "angle(tBodyGyroMean,gravityMean)                                  NaN   \n",
       "angle(tBodyGyroJerkMean,gravityMean)                              NaN   \n",
       "angle(X,gravityMean)                                              NaN   \n",
       "angle(Y,gravityMean)                                              NaN   \n",
       "angle(Z,gravityMean)                                              NaN   \n",
       "\n",
       "                                      fBodyBodyGyroJerkMag-skewness()  \\\n",
       "tBodyAcc-mean()-X                                           -0.006179   \n",
       "tBodyAcc-mean()-Y                                           -0.000649   \n",
       "tBodyAcc-mean()-Z                                            0.023050   \n",
       "tBodyAcc-std()-X                                             0.165552   \n",
       "tBodyAcc-std()-Y                                             0.220279   \n",
       "...                                                               ...   \n",
       "angle(tBodyGyroMean,gravityMean)                                  NaN   \n",
       "angle(tBodyGyroJerkMean,gravityMean)                              NaN   \n",
       "angle(X,gravityMean)                                              NaN   \n",
       "angle(Y,gravityMean)                                              NaN   \n",
       "angle(Z,gravityMean)                                              NaN   \n",
       "\n",
       "                                      fBodyBodyGyroJerkMag-kurtosis()  \\\n",
       "tBodyAcc-mean()-X                                           -0.002255   \n",
       "tBodyAcc-mean()-Y                                           -0.002842   \n",
       "tBodyAcc-mean()-Z                                            0.023122   \n",
       "tBodyAcc-std()-X                                             0.135171   \n",
       "tBodyAcc-std()-Y                                             0.191164   \n",
       "...                                                               ...   \n",
       "angle(tBodyGyroMean,gravityMean)                                  NaN   \n",
       "angle(tBodyGyroJerkMean,gravityMean)                              NaN   \n",
       "angle(X,gravityMean)                                              NaN   \n",
       "angle(Y,gravityMean)                                              NaN   \n",
       "angle(Z,gravityMean)                                              NaN   \n",
       "\n",
       "                                      angle(tBodyAccMean,gravity)  \\\n",
       "tBodyAcc-mean()-X                                       -0.552989   \n",
       "tBodyAcc-mean()-Y                                        0.077750   \n",
       "tBodyAcc-mean()-Z                                        0.055020   \n",
       "tBodyAcc-std()-X                                        -0.034334   \n",
       "tBodyAcc-std()-Y                                        -0.020806   \n",
       "...                                                           ...   \n",
       "angle(tBodyGyroMean,gravityMean)                              NaN   \n",
       "angle(tBodyGyroJerkMean,gravityMean)                          NaN   \n",
       "angle(X,gravityMean)                                          NaN   \n",
       "angle(Y,gravityMean)                                          NaN   \n",
       "angle(Z,gravityMean)                                          NaN   \n",
       "\n",
       "                                      angle(tBodyAccJerkMean),gravityMean)  \\\n",
       "tBodyAcc-mean()-X                                                 0.015754   \n",
       "tBodyAcc-mean()-Y                                                -0.027567   \n",
       "tBodyAcc-mean()-Z                                                -0.042083   \n",
       "tBodyAcc-std()-X                                                 -0.017096   \n",
       "tBodyAcc-std()-Y                                                 -0.006605   \n",
       "...                                                                    ...   \n",
       "angle(tBodyGyroMean,gravityMean)                                       NaN   \n",
       "angle(tBodyGyroJerkMean,gravityMean)                                   NaN   \n",
       "angle(X,gravityMean)                                                   NaN   \n",
       "angle(Y,gravityMean)                                                   NaN   \n",
       "angle(Z,gravityMean)                                                   NaN   \n",
       "\n",
       "                                      angle(tBodyGyroMean,gravityMean)  \\\n",
       "tBodyAcc-mean()-X                                             0.036047   \n",
       "tBodyAcc-mean()-Y                                             0.013241   \n",
       "tBodyAcc-mean()-Z                                            -0.066233   \n",
       "tBodyAcc-std()-X                                              0.027464   \n",
       "tBodyAcc-std()-Y                                              0.001902   \n",
       "...                                                                ...   \n",
       "angle(tBodyGyroMean,gravityMean)                                   NaN   \n",
       "angle(tBodyGyroJerkMean,gravityMean)                               NaN   \n",
       "angle(X,gravityMean)                                               NaN   \n",
       "angle(Y,gravityMean)                                               NaN   \n",
       "angle(Z,gravityMean)                                               NaN   \n",
       "\n",
       "                                      angle(tBodyGyroJerkMean,gravityMean)  \\\n",
       "tBodyAcc-mean()-X                                                 0.034296   \n",
       "tBodyAcc-mean()-Y                                                 0.077627   \n",
       "tBodyAcc-mean()-Z                                                -0.030748   \n",
       "tBodyAcc-std()-X                                                 -0.027123   \n",
       "tBodyAcc-std()-Y                                                 -0.015784   \n",
       "...                                                                    ...   \n",
       "angle(tBodyGyroMean,gravityMean)                                 -0.112454   \n",
       "angle(tBodyGyroJerkMean,gravityMean)                                   NaN   \n",
       "angle(X,gravityMean)                                                   NaN   \n",
       "angle(Y,gravityMean)                                                   NaN   \n",
       "angle(Z,gravityMean)                                                   NaN   \n",
       "\n",
       "                                      angle(X,gravityMean)  \\\n",
       "tBodyAcc-mean()-X                                -0.041021   \n",
       "tBodyAcc-mean()-Y                                -0.007513   \n",
       "tBodyAcc-mean()-Z                                 0.003215   \n",
       "tBodyAcc-std()-X                                 -0.374104   \n",
       "tBodyAcc-std()-Y                                 -0.381391   \n",
       "...                                                    ...   \n",
       "angle(tBodyGyroMean,gravityMean)                 -0.007095   \n",
       "angle(tBodyGyroJerkMean,gravityMean)              0.024822   \n",
       "angle(X,gravityMean)                                   NaN   \n",
       "angle(Y,gravityMean)                                   NaN   \n",
       "angle(Z,gravityMean)                                   NaN   \n",
       "\n",
       "                                      angle(Y,gravityMean)  \\\n",
       "tBodyAcc-mean()-X                                 0.034053   \n",
       "tBodyAcc-mean()-Y                                -0.005616   \n",
       "tBodyAcc-mean()-Z                                -0.012986   \n",
       "tBodyAcc-std()-X                                  0.449425   \n",
       "tBodyAcc-std()-Y                                  0.506106   \n",
       "...                                                    ...   \n",
       "angle(tBodyGyroMean,gravityMean)                 -0.006444   \n",
       "angle(tBodyGyroJerkMean,gravityMean)             -0.004582   \n",
       "angle(X,gravityMean)                             -0.748249   \n",
       "angle(Y,gravityMean)                                   NaN   \n",
       "angle(Z,gravityMean)                                   NaN   \n",
       "\n",
       "                                      angle(Z,gravityMean)  \n",
       "tBodyAcc-mean()-X                                 0.030656  \n",
       "tBodyAcc-mean()-Y                                -0.016233  \n",
       "tBodyAcc-mean()-Z                                -0.028406  \n",
       "tBodyAcc-std()-X                                  0.393063  \n",
       "tBodyAcc-std()-Y                                  0.425511  \n",
       "...                                                    ...  \n",
       "angle(tBodyGyroMean,gravityMean)                 -0.015380  \n",
       "angle(tBodyGyroJerkMean,gravityMean)             -0.012549  \n",
       "angle(X,gravityMean)                             -0.635231  \n",
       "angle(Y,gravityMean)                              0.545614  \n",
       "angle(Z,gravityMean)                                   NaN  \n",
       "\n",
       "[561 rows x 561 columns]"
      ]
     },
     "execution_count": 12,
     "metadata": {},
     "output_type": "execute_result"
    }
   ],
   "source": [
    "# Simplify by emptying all the data below the diagonal\n",
    "tril_index = np.tril_indices_from(corr_values)\n",
    "\n",
    "# Make the unused values NaNs\n",
    "for coord in zip(*tril_index):\n",
    "    corr_values.iloc[coord[0], coord[1]] = np.NaN\n",
    "    \n",
    "corr_values"
   ]
  },
  {
   "cell_type": "code",
   "execution_count": 13,
   "metadata": {},
   "outputs": [],
   "source": [
    "# Stack the data and convert to a data frame\n",
    "corr_values = (corr_values\n",
    "               .stack()\n",
    "               .to_frame()\n",
    "               .reset_index()\n",
    "               .rename(columns={'level_0':'feature1',\n",
    "                                'level_1':'feature2',\n",
    "                                0:'correlation'}))\n",
    "\n",
    "# Get the absolute values for sorting\n",
    "corr_values['abs_correlation'] = corr_values.correlation.abs()"
   ]
  },
  {
   "cell_type": "code",
   "execution_count": null,
   "metadata": {},
   "outputs": [],
   "source": [
    "corr_values"
   ]
  },
  {
   "cell_type": "markdown",
   "metadata": {},
   "source": [
    "A histogram of the absolute value correlations."
   ]
  },
  {
   "cell_type": "code",
   "execution_count": null,
   "metadata": {},
   "outputs": [],
   "source": [
    "import matplotlib.pyplot as plt\n",
    "import seaborn as sns\n",
    "%matplotlib inline"
   ]
  },
  {
   "cell_type": "code",
   "execution_count": null,
   "metadata": {
    "jupyter": {
     "outputs_hidden": false
    }
   },
   "outputs": [],
   "source": [
    "sns.set_context('talk')\n",
    "sns.set_style('white')\n",
    "\n",
    "ax = corr_values.abs_correlation.hist(bins=50, figsize=(12, 8))\n",
    "ax.set(xlabel='Absolute Correlation', ylabel='Frequency');"
   ]
  },
  {
   "cell_type": "code",
   "execution_count": null,
   "metadata": {
    "jupyter": {
     "outputs_hidden": false
    }
   },
   "outputs": [],
   "source": [
    "# The most highly correlated values\n",
    "corr_values.sort_values('correlation', ascending=False).query('abs_correlation>0.8')\n",
    "### END SOLUTION"
   ]
  },
  {
   "cell_type": "markdown",
   "metadata": {},
   "source": [
    "## Question 3\n",
    "\n",
    "* Split the data into train and test data sets. This can be done using any method, but consider using Scikit-learn's `StratifiedShuffleSplit` to maintain the same ratio of predictor classes.\n",
    "* Regardless of methods used to split the data, compare the ratio of classes in both the train and test splits.\n"
   ]
  },
  {
   "cell_type": "code",
   "execution_count": null,
   "metadata": {},
   "outputs": [],
   "source": [
    "### BEGIN SOLUTION\n",
    "from sklearn.model_selection import StratifiedShuffleSplit\n",
    "\n",
    "# Get the split indexes\n",
    "strat_shuf_split = StratifiedShuffleSplit(n_splits=1, \n",
    "                                          test_size=0.3, \n",
    "                                          random_state=42)\n",
    "\n",
    "#next(strat_shuf_split.split(data[feature_cols], data.Activity))\n",
    "strat_shuf_split.split(data[feature_cols], data.Activity)"
   ]
  },
  {
   "cell_type": "code",
   "execution_count": null,
   "metadata": {
    "jupyter": {
     "outputs_hidden": false
    }
   },
   "outputs": [],
   "source": [
    "### BEGIN SOLUTION\n",
    "from sklearn.model_selection import StratifiedShuffleSplit\n",
    "\n",
    "# Get the split indexes\n",
    "strat_shuf_split = StratifiedShuffleSplit(n_splits=1, \n",
    "                                          test_size=0.3, \n",
    "                                          random_state=42)\n",
    "\n",
    "train_idx, test_idx = next(strat_shuf_split.split(data[feature_cols], data.Activity))\n",
    "\n",
    "# Create the dataframes\n",
    "X_train = data.loc[train_idx, feature_cols]\n",
    "y_train = data.loc[train_idx, 'Activity']\n",
    "\n",
    "X_test  = data.loc[test_idx, feature_cols]\n",
    "y_test  = data.loc[test_idx, 'Activity']"
   ]
  },
  {
   "cell_type": "code",
   "execution_count": null,
   "metadata": {
    "jupyter": {
     "outputs_hidden": false
    }
   },
   "outputs": [],
   "source": [
    "y_train.value_counts(normalize=True)"
   ]
  },
  {
   "cell_type": "code",
   "execution_count": null,
   "metadata": {
    "jupyter": {
     "outputs_hidden": false
    }
   },
   "outputs": [],
   "source": [
    "y_test.value_counts(normalize=True)\n",
    "### END SOLUTION"
   ]
  },
  {
   "cell_type": "markdown",
   "metadata": {},
   "source": [
    "## Question 4\n",
    "\n",
    "* Fit a logistic regression model without any regularization using all of the features. Be sure to read the documentation about fitting a multi-class model so you understand the coefficient output. Store the model.\n",
    "* Using cross validation to determine the hyperparameters, fit models using L1, and L2 regularization. Store each of these models as well. Note the limitations on multi-class models, solvers, and regularizations. The regularized models, in particular the L1 model, will probably take a while to fit."
   ]
  },
  {
   "cell_type": "code",
   "execution_count": null,
   "metadata": {
    "jupyter": {
     "outputs_hidden": false
    }
   },
   "outputs": [],
   "source": [
    "### BEGIN SOLUTION\n",
    "from sklearn.linear_model import LogisticRegression\n",
    "\n",
    "# Standard logistic regression\n",
    "lr = LogisticRegression(solver='liblinear').fit(X_train, y_train)"
   ]
  },
  {
   "cell_type": "code",
   "execution_count": null,
   "metadata": {
    "jupyter": {
     "outputs_hidden": false
    }
   },
   "outputs": [],
   "source": [
    "from sklearn.linear_model import LogisticRegressionCV\n",
    "\n",
    "# L1 regularized logistic regression\n",
    "lr_l1 = LogisticRegressionCV(Cs=10, cv=4, penalty='l1', solver='liblinear').fit(X_train, y_train)"
   ]
  },
  {
   "cell_type": "code",
   "execution_count": null,
   "metadata": {},
   "outputs": [],
   "source": [
    "# L2 regularized logistic regression\n",
    "lr_l2 = LogisticRegressionCV(Cs=10, cv=4, penalty='l2', solver='liblinear').fit(X_train, y_train)\n",
    "### END SOLUTION"
   ]
  },
  {
   "cell_type": "markdown",
   "metadata": {},
   "source": [
    "## Question 5\n",
    "\n",
    "Compare the magnitudes of the coefficients for each of the models. If one-vs-rest fitting was used, each set of coefficients can be plotted separately. "
   ]
  },
  {
   "cell_type": "code",
   "execution_count": null,
   "metadata": {
    "jupyter": {
     "outputs_hidden": false
    }
   },
   "outputs": [],
   "source": [
    "### BEGIN SOLUTION\n",
    "# Combine all the coefficients into a dataframe\n",
    "coefficients = list()\n",
    "\n",
    "coeff_labels = ['lr', 'l1', 'l2']\n",
    "coeff_models = [lr, lr_l1, lr_l2]\n",
    "\n",
    "for lab,mod in zip(coeff_labels, coeff_models):\n",
    "    coeffs = mod.coef_\n",
    "    coeff_label = pd.MultiIndex(levels=[[lab], [0,1,2,3,4,5]], \n",
    "                                 codes=[[0,0,0,0,0,0], [0,1,2,3,4,5]])\n",
    "    coefficients.append(pd.DataFrame(coeffs.T, columns=coeff_label))\n",
    "\n",
    "coefficients = pd.concat(coefficients, axis=1)\n",
    "\n",
    "coefficients"
   ]
  },
  {
   "cell_type": "markdown",
   "metadata": {},
   "source": [
    "Prepare six separate plots for each of the multi-class coefficients."
   ]
  },
  {
   "cell_type": "code",
   "execution_count": null,
   "metadata": {
    "jupyter": {
     "outputs_hidden": false
    }
   },
   "outputs": [],
   "source": [
    "fig, axList = plt.subplots(nrows=3, ncols=2)\n",
    "axList = axList.flatten()\n",
    "fig.set_size_inches(10,10)\n",
    "\n",
    "for ax in enumerate(axList):\n",
    "    loc = ax[0]\n",
    "    ax = ax[1]\n",
    "    \n",
    "    data = coefficients.xs(loc, level=1, axis=1)\n",
    "    data.plot(marker='o', ls='', ms=2.0, ax=ax, legend=False)\n",
    "    \n",
    "    if ax is axList[0]:\n",
    "        ax.legend(loc=4)\n",
    "        \n",
    "    ax.set(title='Coefficient Set '+ str(loc))\n",
    "\n",
    "plt.tight_layout()\n",
    "### END SOLUTION"
   ]
  },
  {
   "cell_type": "markdown",
   "metadata": {},
   "source": [
    "## Question 6\n",
    "\n",
    "* Predict and store the class for each model.\n",
    "* Store the probability for the predicted class for each model. "
   ]
  },
  {
   "cell_type": "code",
   "execution_count": null,
   "metadata": {},
   "outputs": [],
   "source": [
    "pd.DataFrame(lr.predict_proba(X_test))"
   ]
  },
  {
   "cell_type": "code",
   "execution_count": null,
   "metadata": {
    "jupyter": {
     "outputs_hidden": false
    }
   },
   "outputs": [],
   "source": [
    "### BEGIN SOLUTION\n",
    "# Predict the class and the probability for each\n",
    "y_pred = list()\n",
    "y_prob = list()\n",
    "\n",
    "coeff_labels = ['lr', 'l1', 'l2']\n",
    "coeff_models = [lr, lr_l1, lr_l2]\n",
    "\n",
    "for lab,mod in zip(coeff_labels, coeff_models):\n",
    "    y_pred.append(pd.Series(mod.predict(X_test), name=lab))\n",
    "    #Taking .max() of probability \n",
    "    y_prob.append(pd.Series(mod.predict_proba(X_test).max(axis=1), name=lab))\n",
    "    \n",
    "y_pred = pd.concat(y_pred, axis=1)\n",
    "y_prob = pd.concat(y_prob, axis=1)\n",
    "\n",
    "y_pred.head()"
   ]
  },
  {
   "cell_type": "code",
   "execution_count": null,
   "metadata": {},
   "outputs": [],
   "source": [
    "y_pred[y_pred.lr != y_pred.l1]"
   ]
  },
  {
   "cell_type": "code",
   "execution_count": null,
   "metadata": {
    "jupyter": {
     "outputs_hidden": false
    }
   },
   "outputs": [],
   "source": [
    "y_prob.head()\n",
    "### END SOLUTION"
   ]
  },
  {
   "cell_type": "markdown",
   "metadata": {},
   "source": [
    "## Question 7\n",
    "\n",
    "For each model, calculate the following error metrics: \n",
    "\n",
    "* Accuracy\n",
    "* Precision\n",
    "* Recall\n",
    "* F-score\n",
    "* Confusion Matrix\n",
    "\n",
    "Decide how to combine the multi-class metrics into a single value for each model."
   ]
  },
  {
   "cell_type": "code",
   "execution_count": null,
   "metadata": {
    "jupyter": {
     "outputs_hidden": false
    }
   },
   "outputs": [],
   "source": [
    "### BEGIN SOLUTION\n",
    "from sklearn.metrics import precision_recall_fscore_support as score\n",
    "from sklearn.metrics import confusion_matrix, accuracy_score, roc_auc_score\n",
    "from sklearn.preprocessing import label_binarize\n",
    "\n",
    "metrics = list()\n",
    "cm = dict()\n",
    "\n",
    "for lab in coeff_labels:\n",
    "\n",
    "    # Preciision, recall, f-score from the multi-class support function\n",
    "    precision, recall, fscore, _ = score(y_test, y_pred[lab], average='weighted')\n",
    "    \n",
    "    # The usual way to calculate accuracy\n",
    "    accuracy = accuracy_score(y_test, y_pred[lab])\n",
    "    \n",
    "    # ROC-AUC scores can be calculated by binarizing the data\n",
    "    auc = roc_auc_score(label_binarize(y_test, classes=[0,1,2,3,4,5]),\n",
    "              label_binarize(y_pred[lab], classes=[0,1,2,3,4,5]), \n",
    "              average='weighted')\n",
    "    \n",
    "    # Last, the confusion matrix\n",
    "    cm[lab] = confusion_matrix(y_test, y_pred[lab])\n",
    "    \n",
    "    metrics.append(pd.Series({'precision':precision, 'recall':recall, \n",
    "                              'fscore':fscore, 'accuracy':accuracy,\n",
    "                              'auc':auc}, \n",
    "                             name=lab))\n",
    "\n",
    "metrics = pd.concat(metrics, axis=1)"
   ]
  },
  {
   "cell_type": "code",
   "execution_count": null,
   "metadata": {
    "jupyter": {
     "outputs_hidden": false
    }
   },
   "outputs": [],
   "source": [
    "metrics\n",
    "### END SOLUTION"
   ]
  },
  {
   "cell_type": "markdown",
   "metadata": {},
   "source": [
    "## Question 8\n",
    "\n",
    "Display or plot the confusion matrix for each model."
   ]
  },
  {
   "cell_type": "code",
   "execution_count": null,
   "metadata": {},
   "outputs": [],
   "source": [
    "le.classes_"
   ]
  },
  {
   "cell_type": "code",
   "execution_count": null,
   "metadata": {
    "jupyter": {
     "outputs_hidden": false
    }
   },
   "outputs": [],
   "source": [
    "### BEGIN SOLUTION\n",
    "fig, axList = plt.subplots(nrows=2, ncols=2)\n",
    "axList = axList.flatten()\n",
    "fig.set_size_inches(12, 10)\n",
    "\n",
    "axList[-1].axis('off')\n",
    "\n",
    "for ax,lab in zip(axList[:-1], coeff_labels):\n",
    "#    sns.heatmap(cm[lab], ax=ax, annot=True, fmt='d', cmap=colors);\n",
    "    sns.heatmap(cm[lab], ax=ax, annot=True, fmt='d');\n",
    "    ax.set(title=lab);\n",
    "    \n",
    "plt.tight_layout()\n",
    "### END SOLUTION"
   ]
  },
  {
   "cell_type": "markdown",
   "metadata": {},
   "source": [
    "---\n",
    "### Machine Learning Foundation (C) 2020 IBM Corporation"
   ]
  }
 ],
 "metadata": {
  "kernelspec": {
   "display_name": "Python 3 (ipykernel)",
   "language": "python",
   "name": "python3"
  },
  "language_info": {
   "codemirror_mode": {
    "name": "ipython",
    "version": 3
   },
   "file_extension": ".py",
   "mimetype": "text/x-python",
   "name": "python",
   "nbconvert_exporter": "python",
   "pygments_lexer": "ipython3",
   "version": "3.8.12"
  }
 },
 "nbformat": 4,
 "nbformat_minor": 4
}
